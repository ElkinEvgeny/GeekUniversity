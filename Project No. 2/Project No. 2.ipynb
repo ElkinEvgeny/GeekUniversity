{
 "cells": [
  {
   "cell_type": "markdown",
   "metadata": {},
   "source": [
    "## Задание 1.\n",
    "Компания имеет расширенную сеть по всей России и планирует повышение цен на свои услуги. Она не знает заранее, какие последствия могут иметь такие действия, так как эластичность спроса по цене не известна, поэтому не хочет повышать цены сразу везде.\n",
    "Необходимо:\n",
    "Помочь продакту спроектировать тест, который сможет показать эластичность спроса по цене и принять решение о росте цен. Для этого необходимо:\n",
    "- определить ключевые метрики теста\n",
    "- определить принципы отбора территорий для теста\n",
    "- описать способ определения периода проведения теста и размера выборки\n",
    "- описать методы подведения итогов теста.\n",
    "Обратите внимание, что 1 регион для теста уже выбран – это регион 1. Именно в нем мы будем повышать цены\n",
    "\n",
    "2. На основании представленных данных по периодам до и во время теста по выбранным вами регионам подвести итоги теста, сделать выводы и помочь продакту принять решение о дальнейших шагах по повышению цен.\n",
    "\n",
    "Сведения о компании:\n",
    "- компания занимается продажей товаров в b2b и b2c-сегментах по всей России\n",
    "- решение о росте цен было принято на основании анализа цен ближайшего конкурента и расчета ценового индекса \n",
    "- есть сезонность по месяцам года в части объемов продаж, количества заказов, среднего чека и конверсии в продажу\n",
    "- на период теста не планируется проведение иных активностей, которые могут исказить результаты\n",
    "\n",
    "Исходные данные (помесячно за 2 года + 1 месяц во время проведения теста)\n",
    "- количество заказов\n",
    "- выручка\n",
    "- средний чек\n",
    "- конверсия в покупку\n",
    "- количество клиентов"
   ]
  },
  {
   "cell_type": "markdown",
   "metadata": {},
   "source": [
    "# 1. Загрузка библиотек и данных "
   ]
  },
  {
   "cell_type": "code",
   "execution_count": 1,
   "metadata": {},
   "outputs": [],
   "source": [
    "import pandas as pd\n",
    "from matplotlib import pyplot as plt\n",
    "import seaborn as sns\n",
    "import scipy\n",
    "import numpy as np\n",
    "import statistics\n",
    "%matplotlib inline"
   ]
  },
  {
   "cell_type": "code",
   "execution_count": 2,
   "metadata": {},
   "outputs": [],
   "source": [
    "df = pd.read_excel('Данные для 1 и 2 задания.xlsx', sheet_name='Задание 1')"
   ]
  },
  {
   "cell_type": "code",
   "execution_count": 3,
   "metadata": {},
   "outputs": [
    {
     "data": {
      "text/html": [
       "<div>\n",
       "<style scoped>\n",
       "    .dataframe tbody tr th:only-of-type {\n",
       "        vertical-align: middle;\n",
       "    }\n",
       "\n",
       "    .dataframe tbody tr th {\n",
       "        vertical-align: top;\n",
       "    }\n",
       "\n",
       "    .dataframe thead th {\n",
       "        text-align: right;\n",
       "    }\n",
       "</style>\n",
       "<table border=\"1\" class=\"dataframe\">\n",
       "  <thead>\n",
       "    <tr style=\"text-align: right;\">\n",
       "      <th></th>\n",
       "      <th>Показатели</th>\n",
       "      <th>Регионы</th>\n",
       "      <th>2019-06-01 00:00:00</th>\n",
       "      <th>2019-07-01 00:00:00</th>\n",
       "      <th>2019-08-01 00:00:00</th>\n",
       "      <th>01.09.2019</th>\n",
       "      <th>01.10.2019</th>\n",
       "      <th>01.11.2019</th>\n",
       "      <th>01.12.2019</th>\n",
       "      <th>01.01.2020</th>\n",
       "      <th>...</th>\n",
       "      <th>01.10.2020</th>\n",
       "      <th>01.11.2020</th>\n",
       "      <th>01.12.2020</th>\n",
       "      <th>01.01.2021</th>\n",
       "      <th>01.02.2021</th>\n",
       "      <th>01.03.2021</th>\n",
       "      <th>01.04.2021</th>\n",
       "      <th>01.05.2021</th>\n",
       "      <th>01.06.2021</th>\n",
       "      <th>Месяц теста</th>\n",
       "    </tr>\n",
       "  </thead>\n",
       "  <tbody>\n",
       "    <tr>\n",
       "      <th>0</th>\n",
       "      <td>Количество клиентов</td>\n",
       "      <td>Регион 1</td>\n",
       "      <td>112666.502570</td>\n",
       "      <td>126699.861608</td>\n",
       "      <td>143468.197244</td>\n",
       "      <td>159326.75</td>\n",
       "      <td>157465.25</td>\n",
       "      <td>160564.50</td>\n",
       "      <td>157047.333333</td>\n",
       "      <td>143002.333333</td>\n",
       "      <td>...</td>\n",
       "      <td>127578.645161</td>\n",
       "      <td>125339.466667</td>\n",
       "      <td>110713.516129</td>\n",
       "      <td>82460.096774</td>\n",
       "      <td>98066.821429</td>\n",
       "      <td>106744.870968</td>\n",
       "      <td>114725.366667</td>\n",
       "      <td>113339.066667</td>\n",
       "      <td>130155.965517</td>\n",
       "      <td>132986.0</td>\n",
       "    </tr>\n",
       "    <tr>\n",
       "      <th>1</th>\n",
       "      <td>Количество клиентов</td>\n",
       "      <td>Регион 2</td>\n",
       "      <td>99659.878457</td>\n",
       "      <td>112073.176324</td>\n",
       "      <td>126905.715307</td>\n",
       "      <td>140933.50</td>\n",
       "      <td>153894.00</td>\n",
       "      <td>152953.25</td>\n",
       "      <td>162388.666667</td>\n",
       "      <td>141111.333333</td>\n",
       "      <td>...</td>\n",
       "      <td>334391.290323</td>\n",
       "      <td>317191.266667</td>\n",
       "      <td>313019.838710</td>\n",
       "      <td>316147.387097</td>\n",
       "      <td>365391.550000</td>\n",
       "      <td>405310.161290</td>\n",
       "      <td>378292.000000</td>\n",
       "      <td>328104.166667</td>\n",
       "      <td>352059.344828</td>\n",
       "      <td>365987.0</td>\n",
       "    </tr>\n",
       "    <tr>\n",
       "      <th>2</th>\n",
       "      <td>Количество клиентов</td>\n",
       "      <td>Регион 3</td>\n",
       "      <td>436973.812812</td>\n",
       "      <td>491401.795092</td>\n",
       "      <td>556437.306007</td>\n",
       "      <td>617944.25</td>\n",
       "      <td>579099.00</td>\n",
       "      <td>546487.25</td>\n",
       "      <td>521581.000000</td>\n",
       "      <td>498440.000000</td>\n",
       "      <td>...</td>\n",
       "      <td>673691.225806</td>\n",
       "      <td>664800.433333</td>\n",
       "      <td>649504.161290</td>\n",
       "      <td>813206.967742</td>\n",
       "      <td>817970.250000</td>\n",
       "      <td>773434.928571</td>\n",
       "      <td>847185.400000</td>\n",
       "      <td>919424.100000</td>\n",
       "      <td>949497.620690</td>\n",
       "      <td>989765.0</td>\n",
       "    </tr>\n",
       "  </tbody>\n",
       "</table>\n",
       "<p>3 rows × 28 columns</p>\n",
       "</div>"
      ],
      "text/plain": [
       "            Показатели   Регионы  2019-06-01 00:00:00  2019-07-01 00:00:00  \\\n",
       "0  Количество клиентов  Регион 1        112666.502570        126699.861608   \n",
       "1  Количество клиентов  Регион 2         99659.878457        112073.176324   \n",
       "2  Количество клиентов  Регион 3        436973.812812        491401.795092   \n",
       "\n",
       "   2019-08-01 00:00:00  01.09.2019  01.10.2019  01.11.2019     01.12.2019  \\\n",
       "0        143468.197244   159326.75   157465.25   160564.50  157047.333333   \n",
       "1        126905.715307   140933.50   153894.00   152953.25  162388.666667   \n",
       "2        556437.306007   617944.25   579099.00   546487.25  521581.000000   \n",
       "\n",
       "      01.01.2020  ...     01.10.2020     01.11.2020     01.12.2020  \\\n",
       "0  143002.333333  ...  127578.645161  125339.466667  110713.516129   \n",
       "1  141111.333333  ...  334391.290323  317191.266667  313019.838710   \n",
       "2  498440.000000  ...  673691.225806  664800.433333  649504.161290   \n",
       "\n",
       "      01.01.2021     01.02.2021     01.03.2021     01.04.2021     01.05.2021  \\\n",
       "0   82460.096774   98066.821429  106744.870968  114725.366667  113339.066667   \n",
       "1  316147.387097  365391.550000  405310.161290  378292.000000  328104.166667   \n",
       "2  813206.967742  817970.250000  773434.928571  847185.400000  919424.100000   \n",
       "\n",
       "      01.06.2021  Месяц теста  \n",
       "0  130155.965517     132986.0  \n",
       "1  352059.344828     365987.0  \n",
       "2  949497.620690     989765.0  \n",
       "\n",
       "[3 rows x 28 columns]"
      ]
     },
     "execution_count": 3,
     "metadata": {},
     "output_type": "execute_result"
    }
   ],
   "source": [
    "df.head(3)"
   ]
  },
  {
   "cell_type": "markdown",
   "metadata": {},
   "source": [
    "# 2. Предподготовка данных"
   ]
  },
  {
   "cell_type": "code",
   "execution_count": 4,
   "metadata": {},
   "outputs": [],
   "source": [
    "df = df.transpose()# поменяем колонки со столбцами"
   ]
  },
  {
   "cell_type": "code",
   "execution_count": 5,
   "metadata": {},
   "outputs": [],
   "source": [
    "df.columns=[\"Кол_клиентов_1\",\"Кол_клиентов_2\",\"Кол_клиентов_3\",\"Кол_клиентов_4\",\n",
    "\"Выручка_1\",\"Выручка_2\",\"Выручка_3\",\"Выручка_4\",\"Кол_заказов_1\",\"Кол_заказов_2\",\"Кол_заказов_3\",\"Кол_заказов_4\",\n",
    "\"Средний_чек_1\",\"Средний_чек_2\",\"Средний_чек_3\",\"Средний_чек_4\",\"Конверсия_1\",\"Конверсия_2\",\"Конверсия_3\",\"Конверсия_4\"]\n",
    "# изменим название колонок\n"
   ]
  },
  {
   "cell_type": "code",
   "execution_count": 6,
   "metadata": {},
   "outputs": [],
   "source": [
    "df.drop(['Показатели','Регионы'],inplace=True) # удалим не нужные строки "
   ]
  },
  {
   "cell_type": "code",
   "execution_count": 7,
   "metadata": {},
   "outputs": [
    {
     "data": {
      "text/plain": [
       "(26, 20)"
      ]
     },
     "execution_count": 7,
     "metadata": {},
     "output_type": "execute_result"
    }
   ],
   "source": [
    "df.shape # размер"
   ]
  },
  {
   "cell_type": "code",
   "execution_count": 8,
   "metadata": {},
   "outputs": [],
   "source": [
    "date_1 = pd.date_range('2019-06-01', periods=26, freq='MS')"
   ]
  },
  {
   "cell_type": "code",
   "execution_count": 9,
   "metadata": {},
   "outputs": [],
   "source": [
    "df.index=date_1# сделаем индекс из дат"
   ]
  },
  {
   "cell_type": "code",
   "execution_count": 10,
   "metadata": {},
   "outputs": [],
   "source": [
    "for i in df.columns[:]:\n",
    "    df[i]=df[i].astype('int') # изменим тип данных"
   ]
  },
  {
   "cell_type": "code",
   "execution_count": 11,
   "metadata": {},
   "outputs": [],
   "source": [
    "df['Год']=[i for i in df.index.year] # добавим столбец Год"
   ]
  },
  {
   "cell_type": "markdown",
   "metadata": {},
   "source": [
    "## 3. Определить ключевые метрики теста"
   ]
  },
  {
   "cell_type": "markdown",
   "metadata": {},
   "source": [
    "Ключевые метрики теста : \n",
    "- Выручка \n",
    "- Средний чек\n",
    "- Конверсия.\n",
    "\n",
    "Второстепенные метрики теста:\n",
    " - Количество клиентов;\n",
    " - Количество заказов.\n"
   ]
  },
  {
   "cell_type": "markdown",
   "metadata": {},
   "source": [
    "## 4. Определить принципы отбора территорий для теста"
   ]
  },
  {
   "cell_type": "markdown",
   "metadata": {},
   "source": [
    "Исходя из условий нам известно, что тестовый регион -  регион № 1, период проведения теста - 01.07.2021. Чтобы выбрать контрольный регион нам необходимо сравнить метрики региона № 1 с метриками остальных регионов (за 2 года). Согласно данным (без учета среднего чека) регион № 1 находится на последнем месте в разрезе других регионов по показателям (далее № 2,3,4), в связи с чем он и являлся тестовым регионом для поднятия цены."
   ]
  },
  {
   "cell_type": "code",
   "execution_count": 12,
   "metadata": {},
   "outputs": [
    {
     "data": {
      "text/html": [
       "<div>\n",
       "<style scoped>\n",
       "    .dataframe tbody tr th:only-of-type {\n",
       "        vertical-align: middle;\n",
       "    }\n",
       "\n",
       "    .dataframe tbody tr th {\n",
       "        vertical-align: top;\n",
       "    }\n",
       "\n",
       "    .dataframe thead th {\n",
       "        text-align: right;\n",
       "    }\n",
       "</style>\n",
       "<table border=\"1\" class=\"dataframe\">\n",
       "  <thead>\n",
       "    <tr style=\"text-align: right;\">\n",
       "      <th></th>\n",
       "      <th>Кол_клиентов_1</th>\n",
       "      <th>Кол_клиентов_2</th>\n",
       "      <th>Кол_клиентов_3</th>\n",
       "      <th>Кол_клиентов_4</th>\n",
       "      <th>Выручка_1</th>\n",
       "      <th>Выручка_2</th>\n",
       "      <th>Выручка_3</th>\n",
       "      <th>Выручка_4</th>\n",
       "      <th>Кол_заказов_1</th>\n",
       "      <th>Кол_заказов_2</th>\n",
       "      <th>...</th>\n",
       "      <th>Кол_заказов_4</th>\n",
       "      <th>Средний_чек_1</th>\n",
       "      <th>Средний_чек_2</th>\n",
       "      <th>Средний_чек_3</th>\n",
       "      <th>Средний_чек_4</th>\n",
       "      <th>Конверсия_1</th>\n",
       "      <th>Конверсия_2</th>\n",
       "      <th>Конверсия_3</th>\n",
       "      <th>Конверсия_4</th>\n",
       "      <th>Год</th>\n",
       "    </tr>\n",
       "  </thead>\n",
       "  <tbody>\n",
       "    <tr>\n",
       "      <th>count</th>\n",
       "      <td>26.000000</td>\n",
       "      <td>26.000000</td>\n",
       "      <td>26.000000</td>\n",
       "      <td>26.000000</td>\n",
       "      <td>2.600000e+01</td>\n",
       "      <td>2.600000e+01</td>\n",
       "      <td>2.600000e+01</td>\n",
       "      <td>2.600000e+01</td>\n",
       "      <td>26.000000</td>\n",
       "      <td>26.000000</td>\n",
       "      <td>...</td>\n",
       "      <td>2.600000e+01</td>\n",
       "      <td>26.000000</td>\n",
       "      <td>26.000000</td>\n",
       "      <td>26.000000</td>\n",
       "      <td>26.000000</td>\n",
       "      <td>26.0</td>\n",
       "      <td>26.000000</td>\n",
       "      <td>26.000000</td>\n",
       "      <td>26.0</td>\n",
       "      <td>26.000000</td>\n",
       "    </tr>\n",
       "    <tr>\n",
       "      <th>mean</th>\n",
       "      <td>125440.692308</td>\n",
       "      <td>235154.500000</td>\n",
       "      <td>642050.307692</td>\n",
       "      <td>429554.807692</td>\n",
       "      <td>7.125130e+06</td>\n",
       "      <td>1.266882e+07</td>\n",
       "      <td>2.914516e+07</td>\n",
       "      <td>1.465880e+07</td>\n",
       "      <td>249345.038462</td>\n",
       "      <td>281624.769231</td>\n",
       "      <td>...</td>\n",
       "      <td>1.975364e+06</td>\n",
       "      <td>29567.615385</td>\n",
       "      <td>46172.346154</td>\n",
       "      <td>28834.230769</td>\n",
       "      <td>7576.500000</td>\n",
       "      <td>2.0</td>\n",
       "      <td>2.076923</td>\n",
       "      <td>3.076923</td>\n",
       "      <td>7.0</td>\n",
       "      <td>2020.000000</td>\n",
       "    </tr>\n",
       "    <tr>\n",
       "      <th>std</th>\n",
       "      <td>21210.999131</td>\n",
       "      <td>102573.469587</td>\n",
       "      <td>162675.080004</td>\n",
       "      <td>188585.721196</td>\n",
       "      <td>3.944264e+05</td>\n",
       "      <td>9.478546e+05</td>\n",
       "      <td>2.522926e+06</td>\n",
       "      <td>6.201367e+05</td>\n",
       "      <td>47483.675072</td>\n",
       "      <td>42250.825286</td>\n",
       "      <td>...</td>\n",
       "      <td>2.947369e+05</td>\n",
       "      <td>5744.019262</td>\n",
       "      <td>8846.441079</td>\n",
       "      <td>5942.393782</td>\n",
       "      <td>1150.435509</td>\n",
       "      <td>0.0</td>\n",
       "      <td>0.271746</td>\n",
       "      <td>0.271746</td>\n",
       "      <td>0.0</td>\n",
       "      <td>0.748331</td>\n",
       "    </tr>\n",
       "    <tr>\n",
       "      <th>min</th>\n",
       "      <td>82460.000000</td>\n",
       "      <td>99659.000000</td>\n",
       "      <td>398229.000000</td>\n",
       "      <td>164920.000000</td>\n",
       "      <td>6.415183e+06</td>\n",
       "      <td>1.114571e+07</td>\n",
       "      <td>2.465858e+07</td>\n",
       "      <td>1.308874e+07</td>\n",
       "      <td>178047.000000</td>\n",
       "      <td>206071.000000</td>\n",
       "      <td>...</td>\n",
       "      <td>1.413655e+06</td>\n",
       "      <td>19528.000000</td>\n",
       "      <td>30828.000000</td>\n",
       "      <td>17340.000000</td>\n",
       "      <td>5983.000000</td>\n",
       "      <td>2.0</td>\n",
       "      <td>2.000000</td>\n",
       "      <td>3.000000</td>\n",
       "      <td>7.0</td>\n",
       "      <td>2019.000000</td>\n",
       "    </tr>\n",
       "    <tr>\n",
       "      <th>25%</th>\n",
       "      <td>111077.750000</td>\n",
       "      <td>142909.000000</td>\n",
       "      <td>525511.500000</td>\n",
       "      <td>283299.750000</td>\n",
       "      <td>6.968339e+06</td>\n",
       "      <td>1.184448e+07</td>\n",
       "      <td>2.703275e+07</td>\n",
       "      <td>1.442185e+07</td>\n",
       "      <td>216684.250000</td>\n",
       "      <td>250697.500000</td>\n",
       "      <td>...</td>\n",
       "      <td>1.821809e+06</td>\n",
       "      <td>24372.250000</td>\n",
       "      <td>37684.500000</td>\n",
       "      <td>23978.500000</td>\n",
       "      <td>6890.500000</td>\n",
       "      <td>2.0</td>\n",
       "      <td>2.000000</td>\n",
       "      <td>3.000000</td>\n",
       "      <td>7.0</td>\n",
       "      <td>2019.250000</td>\n",
       "    </tr>\n",
       "    <tr>\n",
       "      <th>50%</th>\n",
       "      <td>124090.000000</td>\n",
       "      <td>205545.500000</td>\n",
       "      <td>598521.500000</td>\n",
       "      <td>379431.000000</td>\n",
       "      <td>7.091019e+06</td>\n",
       "      <td>1.255606e+07</td>\n",
       "      <td>2.903565e+07</td>\n",
       "      <td>1.470054e+07</td>\n",
       "      <td>234269.000000</td>\n",
       "      <td>279138.500000</td>\n",
       "      <td>...</td>\n",
       "      <td>1.993967e+06</td>\n",
       "      <td>30475.500000</td>\n",
       "      <td>45531.500000</td>\n",
       "      <td>28907.500000</td>\n",
       "      <td>7187.000000</td>\n",
       "      <td>2.0</td>\n",
       "      <td>2.000000</td>\n",
       "      <td>3.000000</td>\n",
       "      <td>7.0</td>\n",
       "      <td>2020.000000</td>\n",
       "    </tr>\n",
       "    <tr>\n",
       "      <th>75%</th>\n",
       "      <td>143351.500000</td>\n",
       "      <td>325375.750000</td>\n",
       "      <td>748498.250000</td>\n",
       "      <td>590617.000000</td>\n",
       "      <td>7.225655e+06</td>\n",
       "      <td>1.345883e+07</td>\n",
       "      <td>3.119541e+07</td>\n",
       "      <td>1.493632e+07</td>\n",
       "      <td>280863.750000</td>\n",
       "      <td>314823.250000</td>\n",
       "      <td>...</td>\n",
       "      <td>2.213036e+06</td>\n",
       "      <td>32892.000000</td>\n",
       "      <td>52752.000000</td>\n",
       "      <td>33788.000000</td>\n",
       "      <td>8091.750000</td>\n",
       "      <td>2.0</td>\n",
       "      <td>2.000000</td>\n",
       "      <td>3.000000</td>\n",
       "      <td>7.0</td>\n",
       "      <td>2020.750000</td>\n",
       "    </tr>\n",
       "    <tr>\n",
       "      <th>max</th>\n",
       "      <td>160564.000000</td>\n",
       "      <td>405310.000000</td>\n",
       "      <td>989765.000000</td>\n",
       "      <td>835498.000000</td>\n",
       "      <td>8.765098e+06</td>\n",
       "      <td>1.424365e+07</td>\n",
       "      <td>3.398778e+07</td>\n",
       "      <td>1.609529e+07</td>\n",
       "      <td>354664.000000</td>\n",
       "      <td>383712.000000</td>\n",
       "      <td>...</td>\n",
       "      <td>2.449504e+06</td>\n",
       "      <td>40470.000000</td>\n",
       "      <td>62901.000000</td>\n",
       "      <td>38369.000000</td>\n",
       "      <td>10460.000000</td>\n",
       "      <td>2.0</td>\n",
       "      <td>3.000000</td>\n",
       "      <td>4.000000</td>\n",
       "      <td>7.0</td>\n",
       "      <td>2021.000000</td>\n",
       "    </tr>\n",
       "  </tbody>\n",
       "</table>\n",
       "<p>8 rows × 21 columns</p>\n",
       "</div>"
      ],
      "text/plain": [
       "       Кол_клиентов_1  Кол_клиентов_2  Кол_клиентов_3  Кол_клиентов_4  \\\n",
       "count       26.000000       26.000000       26.000000       26.000000   \n",
       "mean    125440.692308   235154.500000   642050.307692   429554.807692   \n",
       "std      21210.999131   102573.469587   162675.080004   188585.721196   \n",
       "min      82460.000000    99659.000000   398229.000000   164920.000000   \n",
       "25%     111077.750000   142909.000000   525511.500000   283299.750000   \n",
       "50%     124090.000000   205545.500000   598521.500000   379431.000000   \n",
       "75%     143351.500000   325375.750000   748498.250000   590617.000000   \n",
       "max     160564.000000   405310.000000   989765.000000   835498.000000   \n",
       "\n",
       "          Выручка_1     Выручка_2     Выручка_3     Выручка_4  Кол_заказов_1  \\\n",
       "count  2.600000e+01  2.600000e+01  2.600000e+01  2.600000e+01      26.000000   \n",
       "mean   7.125130e+06  1.266882e+07  2.914516e+07  1.465880e+07  249345.038462   \n",
       "std    3.944264e+05  9.478546e+05  2.522926e+06  6.201367e+05   47483.675072   \n",
       "min    6.415183e+06  1.114571e+07  2.465858e+07  1.308874e+07  178047.000000   \n",
       "25%    6.968339e+06  1.184448e+07  2.703275e+07  1.442185e+07  216684.250000   \n",
       "50%    7.091019e+06  1.255606e+07  2.903565e+07  1.470054e+07  234269.000000   \n",
       "75%    7.225655e+06  1.345883e+07  3.119541e+07  1.493632e+07  280863.750000   \n",
       "max    8.765098e+06  1.424365e+07  3.398778e+07  1.609529e+07  354664.000000   \n",
       "\n",
       "       Кол_заказов_2  ...  Кол_заказов_4  Средний_чек_1  Средний_чек_2  \\\n",
       "count      26.000000  ...   2.600000e+01      26.000000      26.000000   \n",
       "mean   281624.769231  ...   1.975364e+06   29567.615385   46172.346154   \n",
       "std     42250.825286  ...   2.947369e+05    5744.019262    8846.441079   \n",
       "min    206071.000000  ...   1.413655e+06   19528.000000   30828.000000   \n",
       "25%    250697.500000  ...   1.821809e+06   24372.250000   37684.500000   \n",
       "50%    279138.500000  ...   1.993967e+06   30475.500000   45531.500000   \n",
       "75%    314823.250000  ...   2.213036e+06   32892.000000   52752.000000   \n",
       "max    383712.000000  ...   2.449504e+06   40470.000000   62901.000000   \n",
       "\n",
       "       Средний_чек_3  Средний_чек_4  Конверсия_1  Конверсия_2  Конверсия_3  \\\n",
       "count      26.000000      26.000000         26.0    26.000000    26.000000   \n",
       "mean    28834.230769    7576.500000          2.0     2.076923     3.076923   \n",
       "std      5942.393782    1150.435509          0.0     0.271746     0.271746   \n",
       "min     17340.000000    5983.000000          2.0     2.000000     3.000000   \n",
       "25%     23978.500000    6890.500000          2.0     2.000000     3.000000   \n",
       "50%     28907.500000    7187.000000          2.0     2.000000     3.000000   \n",
       "75%     33788.000000    8091.750000          2.0     2.000000     3.000000   \n",
       "max     38369.000000   10460.000000          2.0     3.000000     4.000000   \n",
       "\n",
       "       Конверсия_4          Год  \n",
       "count         26.0    26.000000  \n",
       "mean           7.0  2020.000000  \n",
       "std            0.0     0.748331  \n",
       "min            7.0  2019.000000  \n",
       "25%            7.0  2019.250000  \n",
       "50%            7.0  2020.000000  \n",
       "75%            7.0  2020.750000  \n",
       "max            7.0  2021.000000  \n",
       "\n",
       "[8 rows x 21 columns]"
      ]
     },
     "execution_count": 12,
     "metadata": {},
     "output_type": "execute_result"
    }
   ],
   "source": [
    "df.describe()"
   ]
  },
  {
   "cell_type": "code",
   "execution_count": 13,
   "metadata": {},
   "outputs": [],
   "source": [
    "vurychka=[\"Средний_чек_1\",\"Средний_чек_2\",\"Средний_чек_3\",\"Средний_чек_4\"]\n",
    "a_zakaz=pd.pivot_table(df,index=['Год'],values=[\"Кол_заказов_1\",\"Кол_заказов_2\",\"Кол_заказов_3\",\"Кол_заказов_4\"],aggfunc=np.sum)"
   ]
  },
  {
   "cell_type": "markdown",
   "metadata": {},
   "source": [
    "Сравним средний чек по регионам за 2019 и 2021 год"
   ]
  },
  {
   "cell_type": "code",
   "execution_count": 14,
   "metadata": {},
   "outputs": [
    {
     "data": {
      "text/plain": [
       "Text(0, 0.5, 'Money')"
      ]
     },
     "execution_count": 14,
     "metadata": {},
     "output_type": "execute_result"
    },
    {
     "data": {
      "image/png": "[encoded data removed]",
      "text/plain": [
       "<Figure size 432x288 with 1 Axes>"
      ]
     },
     "metadata": {
      "needs_background": "light"
     },
     "output_type": "display_data"
    }
   ],
   "source": [
    "df[vurychka].plot(title='Средний чек по регионам 2019-2021')\n",
    "plt.xlabel('Time')\n",
    "plt.ylabel('Money')"
   ]
  },
  {
   "cell_type": "markdown",
   "metadata": {},
   "source": [
    "### Из графика \"Средний чек по регионам 2019-2021\" видно, что регион № 3 близкий по среднему чеку (одна из ключевых метрик) с регионом № 1. "
   ]
  },
  {
   "cell_type": "markdown",
   "metadata": {},
   "source": [
    "Сравним количество заказов по регионам за 2019 и 2021 год"
   ]
  },
  {
   "cell_type": "code",
   "execution_count": 15,
   "metadata": {},
   "outputs": [
    {
     "data": {
      "text/plain": [
       "<AxesSubplot:xlabel='Год'>"
      ]
     },
     "execution_count": 15,
     "metadata": {},
     "output_type": "execute_result"
    },
    {
     "data": {
      "image/png": "[encoded data removed]",
      "text/plain": [
       "<Figure size 432x288 with 1 Axes>"
      ]
     },
     "metadata": {
      "needs_background": "light"
     },
     "output_type": "display_data"
    }
   ],
   "source": [
    "a_zakaz.plot(kind='bar')"
   ]
  },
  {
   "cell_type": "markdown",
   "metadata": {},
   "source": [
    "### В данном случае регион № 2 близкий по значениям (второстепенная метрика) с регионом № 1 в разрезе годовых значений. "
   ]
  },
  {
   "cell_type": "markdown",
   "metadata": {},
   "source": [
    "Для выбора контрольного региона воспользуемся тестом корреляции Пирсона. Но для начала посмотрим нормально ли распределены наши данные по среднему чеку и количеству заказов (тест Шапиро-Уилк)."
   ]
  },
  {
   "cell_type": "code",
   "execution_count": 16,
   "metadata": {},
   "outputs": [
    {
     "name": "stdout",
     "output_type": "stream",
     "text": [
      "Принять гипотезу о нормальности\n",
      "Принять гипотезу о нормальности\n",
      "Принять гипотезу о нормальности\n",
      "Принять гипотезу о нормальности\n"
     ]
    }
   ],
   "source": [
    "for i in [df[\"Средний_чек_1\"],df[\"Средний_чек_3\"],df[\"Кол_заказов_1\"],df[\"Кол_заказов_2\"]]:\n",
    "    stat, p = scipy.stats.shapiro(i) # тест Шапиро-Уилк\n",
    "    alpha = 0.05\n",
    "    if p > alpha:\n",
    "        print('Принять гипотезу о нормальности')\n",
    "    else:\n",
    "        print('Отклонить гипотезу о нормальности')"
   ]
  },
  {
   "cell_type": "code",
   "execution_count": 17,
   "metadata": {},
   "outputs": [],
   "source": [
    "from scipy.stats import pearsonr"
   ]
  },
  {
   "cell_type": "code",
   "execution_count": 18,
   "metadata": {},
   "outputs": [
    {
     "name": "stdout",
     "output_type": "stream",
     "text": [
      "stat=0.342, p=0.095\n",
      "Группы похожи\n"
     ]
    }
   ],
   "source": [
    "stat, p = pearsonr(df.loc[:'2021-06-01','Средний_чек_1'], df.loc[:'2021-06-01','Средний_чек_3'])\n",
    "\n",
    "print('stat=%.3f, p=%.3f' % (stat, p))\n",
    "if p < 0.05:\n",
    "    print('Группы разные')\n",
    "else:\n",
    "    print('Группы похожи')"
   ]
  },
  {
   "cell_type": "code",
   "execution_count": 19,
   "metadata": {},
   "outputs": [
    {
     "name": "stdout",
     "output_type": "stream",
     "text": [
      "stat=0.784, p=0.000\n",
      "Группы разные\n"
     ]
    }
   ],
   "source": [
    "stat, p = pearsonr(df.loc[:'2021-06-01','Кол_заказов_1'], df.loc[:'2021-06-01','Кол_заказов_2'])\n",
    "\n",
    "print('stat=%.3f, p=%.3f' % (stat, p))\n",
    "if p < 0.05:\n",
    "    print('Группы разные')\n",
    "else:\n",
    "    print('Группы похожи')"
   ]
  },
  {
   "cell_type": "markdown",
   "metadata": {},
   "source": [
    "### Вывод: исходя из данных на графике \"Средний чек по регионам 2019-2021\" и проведенному тесту корреляции Пирсона можно сделать вывод, что контрольным регионом  для теста является регион № 3"
   ]
  },
  {
   "cell_type": "markdown",
   "metadata": {},
   "source": [
    "## 5. Описать способ определения периода проведения теста и размера выборки"
   ]
  },
  {
   "cell_type": "markdown",
   "metadata": {},
   "source": [
    "### Определим размер выборки по регионам №№ 1,3 с помощью калькулятора mindbox (с уровнем доверия 95%) https://mindbox.ru"
   ]
  },
  {
   "cell_type": "code",
   "execution_count": 20,
   "metadata": {},
   "outputs": [
    {
     "name": "stdout",
     "output_type": "stream",
     "text": [
      "Средняя конверсия по региону № 1 - 2.0\n",
      "Средняя конверсия по региону № 3 - 3.08\n"
     ]
    }
   ],
   "source": [
    "print(\"Средняя конверсия по региону № 1 -\",df.loc[:'2021-06-01','Конверсия_1'].mean())\n",
    "print(\"Средняя конверсия по региону № 3 -\",df.loc[:'2021-06-01','Конверсия_3'].mean())"
   ]
  },
  {
   "cell_type": "markdown",
   "metadata": {},
   "source": [
    "#### В данном случае предположим, что увелечение цены товара в регионах №№ 1,3 увеличат конверсию на 0,2%.                 \n",
    "\n",
    "Укажем данные в калькуляторе mindbox:\n",
    "- средний показатель 2%, ожидаемый прирост 0,2% по региону № 1;\n",
    "- средний показатель 3.08%, ожидаемый прирост 0,2% по региону № 3."
   ]
  },
  {
   "cell_type": "markdown",
   "metadata": {},
   "source": [
    "Также можно использовать произвольный подход основанный на применении \"правила большого пальца\", для получения точных результатов необходима выборка 5% от генеральной совокупности. "
   ]
  },
  {
   "cell_type": "code",
   "execution_count": 21,
   "metadata": {},
   "outputs": [
    {
     "name": "stdout",
     "output_type": "stream",
     "text": [
      "Калькулятор mindbox: выборка в регионе № 1 - 153842 человека, выборка в регионе № 3 - 234306 человека\n"
     ]
    }
   ],
   "source": [
    "print( \"Калькулятор mindbox: выборка в регионе № 1 - 153842 человека, выборка в регионе № 3 - 234306 человека\")"
   ]
  },
  {
   "cell_type": "code",
   "execution_count": 22,
   "metadata": {},
   "outputs": [
    {
     "name": "stdout",
     "output_type": "stream",
     "text": [
      "Правила большого пальца: выборка в регионе № 1 - 6257,выборка в регионе № 3 - 31407 \n"
     ]
    }
   ],
   "source": [
    "print(\"Правила большого пальца: выборка в регионе № 1 - {},выборка в регионе № 3 - {} \".format(round(df.loc[:'2021-06-01','Кол_клиентов_1'].mean()*0.05),round(df.loc[:'06.01.2021','Кол_клиентов_3'].mean()*0.05)))"
   ]
  },
  {
   "cell_type": "code",
   "execution_count": 23,
   "metadata": {},
   "outputs": [
    {
     "name": "stdout",
     "output_type": "stream",
     "text": [
      "Среднее кол. клиентов в регионе № 1 125139 за 2 года, Среднее кол. клиентов в регионе № 3 628142 за 2 года\n"
     ]
    }
   ],
   "source": [
    "print ('Среднее кол. клиентов в регионе № 1 {} за 2 года, Среднее кол. клиентов в регионе № 3 {} за 2 года'.format(round(df.loc[:'2021-06-01','Кол_клиентов_1'].mean()),round(df.loc[:'06.01.2021','Кол_клиентов_3'].mean())))"
   ]
  },
  {
   "cell_type": "markdown",
   "metadata": {},
   "source": [
    " ### Вывод: Исходя из полученных сведений о количестве необходимых клиентов для проведения теста в регионах №№ 1,3 (калькулятор \"mindbox\") и результатах выборки по среднему количеству клиентов по указанным регионам за два года можно сделать вывод, что для проведения теста необходимо не более 1 месяца "
   ]
  },
  {
   "cell_type": "markdown",
   "metadata": {},
   "source": [
    "Также для получения валидных данных необходимо посмотреть на сезонность по месяцам года, что бы учитывать это при проведении теста"
   ]
  },
  {
   "cell_type": "code",
   "execution_count": 24,
   "metadata": {},
   "outputs": [
    {
     "data": {
      "text/plain": [
       "<matplotlib.legend.Legend at 0x1c0725f7b80>"
      ]
     },
     "execution_count": 24,
     "metadata": {},
     "output_type": "execute_result"
    },
    {
     "data": {
      "image/png": "[encoded data removed]",
      "text/plain": [
       "<Figure size 432x288 with 1 Axes>"
      ]
     },
     "metadata": {
      "needs_background": "light"
     },
     "output_type": "display_data"
    }
   ],
   "source": [
    "ax = df[[\"Кол_заказов_1\",\"Кол_заказов_2\",\"Кол_заказов_3\",\"Кол_заказов_4\"]].plot(title = 'Кол_заказов')\n",
    "plt.xlabel('Время')\n",
    "plt.ylabel('Количество')\n",
    "ax.legend([\"Регион № 1\",\"Регион № 2\",\"Регион № 3\",\"Регион № 4\"],loc = 'upper center')"
   ]
  },
  {
   "cell_type": "markdown",
   "metadata": {},
   "source": [
    "Как видно на графике присутвует сезонность:\n",
    "- октябрь - декабрь наблюдается снижение;\n",
    "- декабрь - январь наблюдается рост.\n",
    "В связи с вышеизложенным надо исключить проведение теста в эти периоды для получения более валидных данных либо их учитывать при проведении теста"
   ]
  },
  {
   "cell_type": "markdown",
   "metadata": {},
   "source": [
    "# 6. Описать методы подведения итогов теста"
   ]
  },
  {
   "cell_type": "markdown",
   "metadata": {},
   "source": [
    "- Проведем анализ статистической значимости по среднему чеку в наших версиях (регион № 1,3);\n",
    "- Проведем анализ динамики продаж. Темп роста выручки(%)= (Выручка текущего периода/ Выручка прошлого периода)*100 в разрезе регинов №№ 1,3 (текущий период -01.07.2021, прошлый период - 01.06.2021);\n",
    "- Проведем анализ динамики конверсии. Темп роста конверсии(%)= (Выручка текущего периода/ Выручка прошлого периода)*100 в разрезе регинов №№ 1,3 (текущий период -01.07.2021, прошлый период - 01.06.2021);"
   ]
  },
  {
   "cell_type": "markdown",
   "metadata": {},
   "source": [
    "Дополнительно по регионам №№ 1,3 посмотрим:\n",
    "- Рост клиентов(%)= (Кол_клиентов текущего периода/ Кол_клиентов прошлого периода)*100;"
   ]
  },
  {
   "cell_type": "markdown",
   "metadata": {},
   "source": [
    "# 7. Итоги теста"
   ]
  },
  {
   "cell_type": "markdown",
   "metadata": {},
   "source": [
    "### - Проведем t_test  по среднему чеку в регионах № 1,3.\n",
    "Нулевая гипотеза H0: Между средним значением по чеку в регионах № 1 и 3 нет существенной разницы;\n",
    "\n",
    "Альтернативная гипотеза: Существует значительная разница между средним значением по чеку региона № 1 по сравнению с регионом № 3"
   ]
  },
  {
   "cell_type": "code",
   "execution_count": 25,
   "metadata": {},
   "outputs": [],
   "source": [
    "def t_test (a, b):\n",
    "    е, p =scipy.stats.ttest_ind(a, b)\n",
    "    alpha = 0.05\n",
    "    if p > alpha:\n",
    "        print('Разница между средними чеками двух регионов не является статистически значимой')\n",
    "    else:\n",
    "        print('Разница между средними чеками двух регионов является статистически значимой')"
   ]
  },
  {
   "cell_type": "code",
   "execution_count": 26,
   "metadata": {},
   "outputs": [
    {
     "name": "stdout",
     "output_type": "stream",
     "text": [
      "Разница между средними чеками двух регионов является статистически значимой\n"
     ]
    },
    {
     "name": "stderr",
     "output_type": "stream",
     "text": [
      "C:\\ProgramData\\Anaconda3\\lib\\site-packages\\numpy\\core\\fromnumeric.py:3621: RuntimeWarning: Degrees of freedom <= 0 for slice\n",
      "  return _methods._var(a, axis=axis, dtype=dtype, out=out, ddof=ddof,\n",
      "C:\\ProgramData\\Anaconda3\\lib\\site-packages\\numpy\\core\\_methods.py:226: RuntimeWarning: invalid value encountered in double_scalars\n",
      "  ret = ret.dtype.type(ret / rcount)\n"
     ]
    }
   ],
   "source": [
    "t_test(df.loc['2021-07-01','Средний_чек_1'],df.loc['2021-07-01','Средний_чек_3'])"
   ]
  },
  {
   "cell_type": "markdown",
   "metadata": {},
   "source": [
    " - В данном случае выигрывает метрика \"Средний чек\" в регионе № 1"
   ]
  },
  {
   "cell_type": "markdown",
   "metadata": {},
   "source": [
    "### -  Проведем анализ динамики конверсии"
   ]
  },
  {
   "cell_type": "code",
   "execution_count": 27,
   "metadata": {},
   "outputs": [],
   "source": [
    "Темп_роста_конв1 = round(((df.loc['2021-07-01'].Конверсия_1/df.loc['2021-06-01'].Конверсия_1)-1)*100,2)"
   ]
  },
  {
   "cell_type": "code",
   "execution_count": 28,
   "metadata": {},
   "outputs": [],
   "source": [
    "Темп_роста_конв3 = round(((df.loc['2021-07-01'].Конверсия_3/df.loc['2021-06-01'].Конверсия_3)-1)*100,2)"
   ]
  },
  {
   "cell_type": "code",
   "execution_count": 29,
   "metadata": {},
   "outputs": [
    {
     "name": "stdout",
     "output_type": "stream",
     "text": [
      "Темп роста конверсии по региону № 1: 0.0\n",
      "Темп роста конверсии по региону № 3: 0.0\n"
     ]
    }
   ],
   "source": [
    "print('Темп роста конверсии по региону № 1:',Темп_роста_конв1)\n",
    "print('Темп роста конверсии по региону № 3:',Темп_роста_конв3) "
   ]
  },
  {
   "cell_type": "markdown",
   "metadata": {},
   "source": [
    " - В данном случае рост конверсии в регионах № 1,3 отсутствует"
   ]
  },
  {
   "cell_type": "markdown",
   "metadata": {},
   "source": [
    "### - Проведем анализ динамики продаж"
   ]
  },
  {
   "cell_type": "code",
   "execution_count": 30,
   "metadata": {},
   "outputs": [],
   "source": [
    "Темп_роста_выручки1 = round(((df.loc['2021-07-01'].Выручка_1/df.loc['2021-06-01'].Выручка_1)-1)*100,2)"
   ]
  },
  {
   "cell_type": "code",
   "execution_count": 31,
   "metadata": {},
   "outputs": [],
   "source": [
    "Темп_роста_выручки3 = round(((df.loc['2021-07-01'].Выручка_3/df.loc['2021-06-01'].Выручка_3)-1)*100,2)"
   ]
  },
  {
   "cell_type": "code",
   "execution_count": 32,
   "metadata": {},
   "outputs": [
    {
     "name": "stdout",
     "output_type": "stream",
     "text": [
      "Темп роста выручки по региону № 1: 19.46\n",
      "Темп роста выручки по региону № 3: 4.6\n"
     ]
    }
   ],
   "source": [
    "print('Темп роста выручки по региону № 1:',Темп_роста_выручки1)\n",
    "print('Темп роста выручки по региону № 3:',Темп_роста_выручки3) "
   ]
  },
  {
   "cell_type": "markdown",
   "metadata": {},
   "source": [
    " - В данном случае рост выручки в регионе № 1 в процентном соотношении выше, чем в регионе № 3"
   ]
  },
  {
   "cell_type": "markdown",
   "metadata": {},
   "source": [
    "### Допонительно посмотрим как повлияло на количество клиентов поднятие цены в регионе № 1"
   ]
  },
  {
   "cell_type": "code",
   "execution_count": 33,
   "metadata": {},
   "outputs": [],
   "source": [
    "b_klient = df.loc['2021-06-01':'2021-07-01','Кол_клиентов_1']"
   ]
  },
  {
   "cell_type": "code",
   "execution_count": 34,
   "metadata": {},
   "outputs": [
    {
     "data": {
      "image/png": "[encoded data removed]",
      "text/plain": [
       "<Figure size 432x288 with 1 Axes>"
      ]
     },
     "metadata": {
      "needs_background": "light"
     },
     "output_type": "display_data"
    }
   ],
   "source": [
    "re =b_klient.plot(kind='bar', title='Кол. клиентов в регионе № 1 июнь-июль 2021')"
   ]
  },
  {
   "cell_type": "markdown",
   "metadata": {},
   "source": [
    " - В данном случае после поднятие цены количество клиентов в регионе № 1 не снизилось"
   ]
  },
  {
   "cell_type": "markdown",
   "metadata": {},
   "source": [
    "## Вывод по заданию № 1: \n",
    " - по итогам теста выручка в регионе № 1 по сравнению с АППГ выросла на 19,46%; \n",
    " - метрика \"среднего чека\" в регионе № 1 выше, чем в контрольном регионе № 3;\n",
    " - метрика по конверсии и количеству клиентов в связи с повышением цен в регионе № 1 не снизилась.\n",
    "\n",
    " Исходя из полученных данных тест является успешным.                                                         Следующее повышение цены необходимо производить в регионе № 2, чтобы снизить риски в случае неудачного эсперимента по повышению цены  (по показателемя выручки и конверсии после региона № 1 следует регион № 2)."
   ]
  },
  {
   "cell_type": "markdown",
   "metadata": {},
   "source": [
    "# Задание 2.\n",
    "Продакт после принятия решения о росте цен из предыдущего задания\n",
    "не уверен до конца, что все было сделано верно. Поэтому он просит\n",
    "аналитика рассчитать прогноз LTV новых клиентов, которые пришли\n",
    "после повышения цен, и сравнить с LTV клиентов, которые приходили в\n",
    "компанию ранее.\n",
    "Необходимо:\n",
    "1. По исходным данным сделать прогноз LTV на год по новым\n",
    "клиентам, которые пришли после проведенного теста\n",
    "2. Сравнить полученные данные по LTV с теми клиентами, которые\n",
    "приходили в компанию до проведения теста\n",
    "3. Сделать выводы о том, насколько повышение цен влияет на\n",
    "годовом диапазоне на потенциальный LTV, стоит ли\n",
    "корректировать цены и если да, то в какую сторону?\n",
    "Исходные данные (за 2 года):\n",
    "\n",
    "• Месяц первой покупки\n",
    "• Retention rate в покупку в следующем месяце по каждой когорте\n",
    "• Средний чек до теста\n",
    "• Средний чек когорты теста\n",
    "• Среднее количество клиентов в когорте\n",
    "• Средняя кратность покупок клиентов"
   ]
  },
  {
   "cell_type": "markdown",
   "metadata": {},
   "source": [
    "# 1. Загрузка данных"
   ]
  },
  {
   "cell_type": "code",
   "execution_count": 35,
   "metadata": {},
   "outputs": [],
   "source": [
    "df2 = pd.read_excel('Данные для 1 и 2 задания.xlsx', sheet_name='Задание 2')"
   ]
  },
  {
   "cell_type": "markdown",
   "metadata": {},
   "source": [
    "# 2. Предподготовка данных"
   ]
  },
  {
   "cell_type": "code",
   "execution_count": 36,
   "metadata": {},
   "outputs": [],
   "source": [
    "def preobr(x):\n",
    "    x.drop([\"Retention rate в месяц с момента первой покупки, %\",\"Месяц первой покупки\"],axis=1,inplace=True)\n",
    "    x = x[1:27]\n",
    "    date_2 = pd.date_range('2019-06-01', periods=26, freq='MS')\n",
    "    x.index=date_2\n",
    "    x.columns=[\"Месяц1_RR\",\"Месяц2_RR\",\"Месяц3_RR\",\"Месяц4_RR\",\n",
    "\"Месяц5_RR\",\"Месяц6_RR\",\"Месяц7_RR\",\"Месяц8_RR\",\"Месяц9_RR\",\"Месяц10_RR\",\"Месяц11_RR\",\"Месяц12_RR\"]\n",
    "    return x\n",
    "    "
   ]
  },
  {
   "cell_type": "code",
   "execution_count": 37,
   "metadata": {},
   "outputs": [],
   "source": [
    "df2=preobr(df2)"
   ]
  },
  {
   "cell_type": "code",
   "execution_count": 38,
   "metadata": {},
   "outputs": [
    {
     "data": {
      "text/html": [
       "<div>\n",
       "<style scoped>\n",
       "    .dataframe tbody tr th:only-of-type {\n",
       "        vertical-align: middle;\n",
       "    }\n",
       "\n",
       "    .dataframe tbody tr th {\n",
       "        vertical-align: top;\n",
       "    }\n",
       "\n",
       "    .dataframe thead th {\n",
       "        text-align: right;\n",
       "    }\n",
       "</style>\n",
       "<table border=\"1\" class=\"dataframe\">\n",
       "  <thead>\n",
       "    <tr style=\"text-align: right;\">\n",
       "      <th></th>\n",
       "      <th>Месяц1_RR</th>\n",
       "      <th>Месяц2_RR</th>\n",
       "      <th>Месяц3_RR</th>\n",
       "      <th>Месяц4_RR</th>\n",
       "      <th>Месяц5_RR</th>\n",
       "      <th>Месяц6_RR</th>\n",
       "      <th>Месяц7_RR</th>\n",
       "      <th>Месяц8_RR</th>\n",
       "      <th>Месяц9_RR</th>\n",
       "      <th>Месяц10_RR</th>\n",
       "      <th>Месяц11_RR</th>\n",
       "      <th>Месяц12_RR</th>\n",
       "    </tr>\n",
       "  </thead>\n",
       "  <tbody>\n",
       "    <tr>\n",
       "      <th>2021-07-01</th>\n",
       "      <td>18.0</td>\n",
       "      <td>NaN</td>\n",
       "      <td>NaN</td>\n",
       "      <td>NaN</td>\n",
       "      <td>NaN</td>\n",
       "      <td>NaN</td>\n",
       "      <td>NaN</td>\n",
       "      <td>NaN</td>\n",
       "      <td>NaN</td>\n",
       "      <td>NaN</td>\n",
       "      <td>NaN</td>\n",
       "      <td>NaN</td>\n",
       "    </tr>\n",
       "  </tbody>\n",
       "</table>\n",
       "</div>"
      ],
      "text/plain": [
       "            Месяц1_RR  Месяц2_RR  Месяц3_RR  Месяц4_RR  Месяц5_RR  Месяц6_RR  \\\n",
       "2021-07-01       18.0        NaN        NaN        NaN        NaN        NaN   \n",
       "\n",
       "            Месяц7_RR  Месяц8_RR  Месяц9_RR  Месяц10_RR  Месяц11_RR  \\\n",
       "2021-07-01        NaN        NaN        NaN         NaN         NaN   \n",
       "\n",
       "            Месяц12_RR  \n",
       "2021-07-01         NaN  "
      ]
     },
     "execution_count": 38,
     "metadata": {},
     "output_type": "execute_result"
    }
   ],
   "source": [
    "df2.tail(1)"
   ]
  },
  {
   "cell_type": "markdown",
   "metadata": {},
   "source": [
    "# 3. Прогноз Retention rate по когорте \"2021-07-01\""
   ]
  },
  {
   "cell_type": "code",
   "execution_count": 39,
   "metadata": {},
   "outputs": [],
   "source": [
    "import warnings\n",
    "import statsmodels.api as sm\n",
    "import itertools"
   ]
  },
  {
   "cell_type": "markdown",
   "metadata": {},
   "source": [
    "Для прогноза Retention rate используем модель временных рядов SARIMAX."
   ]
  },
  {
   "cell_type": "code",
   "execution_count": 40,
   "metadata": {},
   "outputs": [],
   "source": [
    "def sari_m(x):\n",
    "    a=[]\n",
    "    for i in df2.index:\n",
    "        for j in df2.loc[i]:\n",
    "            a.append(j)\n",
    "    return pd.DataFrame(a,columns=['Месяц_RR'])[:301] "
   ]
  },
  {
   "cell_type": "code",
   "execution_count": 41,
   "metadata": {},
   "outputs": [],
   "source": [
    "sarima = sari_m(df2)# для использования модели временных рядов SARIMAX, сделаем из строк одну колонку "
   ]
  },
  {
   "cell_type": "markdown",
   "metadata": {},
   "source": [
    "Чтобы подобрать отимальные значения параметров для модели временного ряда SARIMA (p, d, q) (P, D, Q), используем сеточный поиск."
   ]
  },
  {
   "cell_type": "code",
   "execution_count": 42,
   "metadata": {},
   "outputs": [],
   "source": [
    "# Определите p, d и q в диапазоне 0-2\n",
    "p = d = q = range(0, 2)\n",
    "# Сгенерируйте различные комбинации p, q и q\n",
    "pdq = list(itertools.product(p, d, q))\n",
    "# Сгенерируйте комбинации сезонных параметров p, q и q\n",
    "seasonal_pdq = [(x[0], x[1], x[2], 12) for x in list(itertools.product(p, d, q))] "
   ]
  },
  {
   "cell_type": "code",
   "execution_count": 43,
   "metadata": {},
   "outputs": [
    {
     "name": "stdout",
     "output_type": "stream",
     "text": [
      "ARIMA(0, 0, 0)x(0, 0, 0, 12)12 - AIC:2174.021513071644\n",
      "ARIMA(0, 0, 0)x(0, 0, 1, 12)12 - AIC:1752.5913110550218\n",
      "ARIMA(0, 0, 0)x(0, 1, 0, 12)12 - AIC:641.5632823966932\n",
      "ARIMA(0, 0, 0)x(0, 1, 1, 12)12 - AIC:553.2792618672393\n",
      "ARIMA(0, 0, 0)x(1, 0, 0, 12)12 - AIC:639.6449129029245\n",
      "ARIMA(0, 0, 0)x(1, 0, 1, 12)12 - AIC:595.4933776776857\n",
      "ARIMA(0, 0, 0)x(1, 1, 0, 12)12 - AIC:559.0378496546562\n",
      "ARIMA(0, 0, 0)x(1, 1, 1, 12)12 - AIC:558.2688544529879\n",
      "ARIMA(0, 0, 1)x(0, 0, 0, 12)12 - AIC:2001.5395287456809\n",
      "ARIMA(0, 0, 1)x(0, 0, 1, 12)12 - AIC:1612.4307673573117\n",
      "ARIMA(0, 0, 1)x(0, 1, 0, 12)12 - AIC:620.0415180498279\n",
      "ARIMA(0, 0, 1)x(0, 1, 1, 12)12 - AIC:526.6484956025873\n",
      "ARIMA(0, 0, 1)x(1, 0, 0, 12)12 - AIC:626.7720940565373\n",
      "ARIMA(0, 0, 1)x(1, 0, 1, 12)12 - AIC:558.5915139768058\n",
      "ARIMA(0, 0, 1)x(1, 1, 0, 12)12 - AIC:537.7946799570311\n",
      "ARIMA(0, 0, 1)x(1, 1, 1, 12)12 - AIC:530.9088793946686\n",
      "ARIMA(0, 1, 0)x(0, 0, 0, 12)12 - AIC:1890.934772424598\n",
      "ARIMA(0, 1, 0)x(0, 0, 1, 12)12 - AIC:1514.5303953437017\n",
      "ARIMA(0, 1, 0)x(0, 1, 0, 12)12 - AIC:745.8011156846885\n",
      "ARIMA(0, 1, 0)x(0, 1, 1, 12)12 - AIC:582.354397813193\n",
      "ARIMA(0, 1, 0)x(1, 0, 0, 12)12 - AIC:747.1423869219876\n",
      "ARIMA(0, 1, 0)x(1, 0, 1, 12)12 - AIC:626.4408565714413\n",
      "ARIMA(0, 1, 0)x(1, 1, 0, 12)12 - AIC:625.455025537679\n",
      "ARIMA(0, 1, 0)x(1, 1, 1, 12)12 - AIC:584.5294566459837\n",
      "ARIMA(0, 1, 1)x(0, 0, 0, 12)12 - AIC:1857.802365551519\n",
      "ARIMA(0, 1, 1)x(0, 0, 1, 12)12 - AIC:1443.2862613832904\n",
      "ARIMA(0, 1, 1)x(0, 1, 0, 12)12 - AIC:640.8231356526408\n",
      "ARIMA(0, 1, 1)x(0, 1, 1, 12)12 - AIC:506.2661194881637\n",
      "ARIMA(0, 1, 1)x(1, 0, 0, 12)12 - AIC:640.6536636237801\n",
      "ARIMA(0, 1, 1)x(1, 0, 1, 12)12 - AIC:551.944007664556\n",
      "ARIMA(0, 1, 1)x(1, 1, 0, 12)12 - AIC:541.5790309844851\n",
      "ARIMA(0, 1, 1)x(1, 1, 1, 12)12 - AIC:518.4492296208637\n",
      "ARIMA(1, 0, 0)x(0, 0, 0, 12)12 - AIC:1866.907863530391\n",
      "ARIMA(1, 0, 0)x(0, 0, 1, 12)12 - AIC:1489.81312797644\n",
      "ARIMA(1, 0, 0)x(0, 1, 0, 12)12 - AIC:621.8252640165649\n",
      "ARIMA(1, 0, 0)x(0, 1, 1, 12)12 - AIC:511.7810317983308\n",
      "ARIMA(1, 0, 0)x(1, 0, 0, 12)12 - AIC:618.7590988472134\n",
      "ARIMA(1, 0, 0)x(1, 0, 1, 12)12 - AIC:545.583270359738\n",
      "ARIMA(1, 0, 0)x(1, 1, 0, 12)12 - AIC:525.9158634603864\n",
      "ARIMA(1, 0, 0)x(1, 1, 1, 12)12 - AIC:515.3315544775938\n",
      "ARIMA(1, 0, 1)x(0, 0, 0, 12)12 - AIC:1852.6520599711175\n",
      "ARIMA(1, 0, 1)x(0, 0, 1, 12)12 - AIC:1470.4873861682522\n",
      "ARIMA(1, 0, 1)x(0, 1, 0, 12)12 - AIC:607.8293708673949\n",
      "ARIMA(1, 0, 1)x(0, 1, 1, 12)12 - AIC:500.95764253280163\n",
      "ARIMA(1, 0, 1)x(1, 0, 0, 12)12 - AIC:610.0076806647144\n",
      "ARIMA(1, 0, 1)x(1, 0, 1, 12)12 - AIC:533.8307593369418\n",
      "ARIMA(1, 0, 1)x(1, 1, 0, 12)12 - AIC:521.5979570113295\n",
      "ARIMA(1, 0, 1)x(1, 1, 1, 12)12 - AIC:504.3637851501635\n",
      "ARIMA(1, 1, 0)x(0, 0, 0, 12)12 - AIC:1875.656389171275\n",
      "ARIMA(1, 1, 0)x(0, 0, 1, 12)12 - AIC:1492.0666205432988\n",
      "ARIMA(1, 1, 0)x(0, 1, 0, 12)12 - AIC:671.3980722049466\n",
      "ARIMA(1, 1, 0)x(0, 1, 1, 12)12 - AIC:542.1631792874209\n",
      "ARIMA(1, 1, 0)x(1, 0, 0, 12)12 - AIC:668.1744515897187\n",
      "ARIMA(1, 1, 0)x(1, 0, 1, 12)12 - AIC:583.2007569693183\n",
      "ARIMA(1, 1, 0)x(1, 1, 0, 12)12 - AIC:570.8989665592337\n",
      "ARIMA(1, 1, 0)x(1, 1, 1, 12)12 - AIC:546.0598618108136\n",
      "ARIMA(1, 1, 1)x(0, 0, 0, 12)12 - AIC:1782.934329334849\n",
      "ARIMA(1, 1, 1)x(0, 0, 1, 12)12 - AIC:1407.6657791260336\n",
      "ARIMA(1, 1, 1)x(0, 1, 0, 12)12 - AIC:625.1259376834578\n",
      "ARIMA(1, 1, 1)x(0, 1, 1, 12)12 - AIC:487.8840894776494\n",
      "ARIMA(1, 1, 1)x(1, 0, 0, 12)12 - AIC:623.9820864842677\n",
      "ARIMA(1, 1, 1)x(1, 0, 1, 12)12 - AIC:535.9028933098715\n",
      "ARIMA(1, 1, 1)x(1, 1, 0, 12)12 - AIC:522.0991575392493\n",
      "ARIMA(1, 1, 1)x(1, 1, 1, 12)12 - AIC:489.8855047047844\n"
     ]
    }
   ],
   "source": [
    "warnings.filterwarnings(\"ignore\") # отключает предупреждения\n",
    "\n",
    "for param in pdq:\n",
    "    for param_seasonal in seasonal_pdq:\n",
    "        try:\n",
    "            mod = sm.tsa.statespace.SARIMAX(sarima['Месяц_RR'],order=param,seasonal_order=param_seasonal, enforce_stationarity=False, enforce_invertibility=False)\n",
    "            results = mod.fit()\n",
    "            print('ARIMA{}x{}12 - AIC:{}'.format(param, param_seasonal, results.aic))\n",
    "        except:\n",
    "            continue"
   ]
  },
  {
   "cell_type": "markdown",
   "metadata": {},
   "source": [
    "Согласно полученному выводу, SARIMAX(1, 1, 1)x(0, 1, 1, 12) получает наименьший показатель AIC (487.88). Следовательно, эти параметры можно считать оптимальными."
   ]
  },
  {
   "cell_type": "code",
   "execution_count": 44,
   "metadata": {},
   "outputs": [],
   "source": [
    "size = int(len(sarima) * 0.7)"
   ]
  },
  {
   "cell_type": "code",
   "execution_count": 45,
   "metadata": {},
   "outputs": [],
   "source": [
    "train = sarima['Месяц_RR'][0:size]\n",
    "test = sarima['Месяц_RR'][size:]"
   ]
  },
  {
   "cell_type": "code",
   "execution_count": 46,
   "metadata": {},
   "outputs": [],
   "source": [
    "import warnings\n",
    "warnings.simplefilter(action = 'ignore', category = Warning)\n",
    " \n",
    "# обучим модель с соответствующими параметрами, SARIMAX(1, 1, 1)x(0, 1, 1, 12)\n",
    "# импортируем класс модели\n",
    "from statsmodels.tsa.statespace.sarimax import SARIMAX\n",
    " \n",
    "# создадим объект этой модели\n",
    "model = SARIMAX(train, \n",
    "                order = (1, 1, 1), \n",
    "                seasonal_order = (0, 1, 1, 12))\n",
    " \n",
    "# применим метод fit\n",
    "result = model.fit()"
   ]
  },
  {
   "cell_type": "code",
   "execution_count": 47,
   "metadata": {},
   "outputs": [],
   "source": [
    "# тестовый прогнозный период начнется с конца обучающего периода\n",
    "start = len(train)\n",
    " \n",
    "# и закончится в конце тестового\n",
    "end = len(train) + len(test) - 1\n",
    "  \n",
    "# применим метод predict\n",
    "predictions = result.predict(start, end)"
   ]
  },
  {
   "cell_type": "markdown",
   "metadata": {},
   "source": [
    "Посмотрим как наша модель делает прогноз"
   ]
  },
  {
   "cell_type": "code",
   "execution_count": 48,
   "metadata": {},
   "outputs": [
    {
     "data": {
      "image/png": "[encoded data removed]",
      "text/plain": [
       "<Figure size 432x288 with 1 Axes>"
      ]
     },
     "metadata": {
      "needs_background": "light"
     },
     "output_type": "display_data"
    }
   ],
   "source": [
    "# выведем три кривые (обучающая, тестовая выборка и тестовый прогноз)\n",
    "plt.plot(train, color = \"black\")\n",
    "plt.plot(test, color = \"red\")\n",
    "plt.plot(predictions, color = \"green\")\n",
    " \n",
    "# заголовок и подписи к осям\n",
    "plt.title(\"Обучающая выборка, тестовая выборка и тестовый прогноз\")\n",
    " \n",
    "# добавим сетку\n",
    "plt.grid()\n",
    " \n",
    "plt.show()"
   ]
  },
  {
   "cell_type": "markdown",
   "metadata": {},
   "source": [
    "В целом модель хорошо описывает временной ряд, теперь спрогнозируем Retention rate по когорте \"2021-07-01\" за 11 месяцев"
   ]
  },
  {
   "cell_type": "code",
   "execution_count": 49,
   "metadata": {},
   "outputs": [],
   "source": [
    "start = len(sarima)\n",
    " \n",
    "# и закончится 12 месяцев спустя\n",
    "end = (len(sarima)-1) + 11\n",
    " \n",
    "# теперь построим прогноз на года вперед\n",
    "forecast = result.predict(start, end)"
   ]
  },
  {
   "cell_type": "code",
   "execution_count": 50,
   "metadata": {},
   "outputs": [],
   "source": [
    "df2.loc['2021-07-01'][1:]=list(forecast)"
   ]
  },
  {
   "cell_type": "code",
   "execution_count": 51,
   "metadata": {},
   "outputs": [],
   "source": [
    "for i in df2.columns[:]:\n",
    "    df2[i]=df2[i].astype('int') # изменим тип данных на int"
   ]
  },
  {
   "cell_type": "code",
   "execution_count": 52,
   "metadata": {},
   "outputs": [
    {
     "data": {
      "text/html": [
       "<div>\n",
       "<style scoped>\n",
       "    .dataframe tbody tr th:only-of-type {\n",
       "        vertical-align: middle;\n",
       "    }\n",
       "\n",
       "    .dataframe tbody tr th {\n",
       "        vertical-align: top;\n",
       "    }\n",
       "\n",
       "    .dataframe thead th {\n",
       "        text-align: right;\n",
       "    }\n",
       "</style>\n",
       "<table border=\"1\" class=\"dataframe\">\n",
       "  <thead>\n",
       "    <tr style=\"text-align: right;\">\n",
       "      <th></th>\n",
       "      <th>Месяц1_RR</th>\n",
       "      <th>Месяц2_RR</th>\n",
       "      <th>Месяц3_RR</th>\n",
       "      <th>Месяц4_RR</th>\n",
       "      <th>Месяц5_RR</th>\n",
       "      <th>Месяц6_RR</th>\n",
       "      <th>Месяц7_RR</th>\n",
       "      <th>Месяц8_RR</th>\n",
       "      <th>Месяц9_RR</th>\n",
       "      <th>Месяц10_RR</th>\n",
       "      <th>Месяц11_RR</th>\n",
       "      <th>Месяц12_RR</th>\n",
       "    </tr>\n",
       "  </thead>\n",
       "  <tbody>\n",
       "    <tr>\n",
       "      <th>2021-07-01</th>\n",
       "      <td>18</td>\n",
       "      <td>13</td>\n",
       "      <td>9</td>\n",
       "      <td>7</td>\n",
       "      <td>6</td>\n",
       "      <td>5</td>\n",
       "      <td>4</td>\n",
       "      <td>4</td>\n",
       "      <td>3</td>\n",
       "      <td>3</td>\n",
       "      <td>2</td>\n",
       "      <td>2</td>\n",
       "    </tr>\n",
       "  </tbody>\n",
       "</table>\n",
       "</div>"
      ],
      "text/plain": [
       "            Месяц1_RR  Месяц2_RR  Месяц3_RR  Месяц4_RR  Месяц5_RR  Месяц6_RR  \\\n",
       "2021-07-01         18         13          9          7          6          5   \n",
       "\n",
       "            Месяц7_RR  Месяц8_RR  Месяц9_RR  Месяц10_RR  Месяц11_RR  \\\n",
       "2021-07-01          4          4          3           3           2   \n",
       "\n",
       "            Месяц12_RR  \n",
       "2021-07-01           2  "
      ]
     },
     "execution_count": 52,
     "metadata": {},
     "output_type": "execute_result"
    }
   ],
   "source": [
    "df2.tail(1)"
   ]
  },
  {
   "cell_type": "markdown",
   "metadata": {},
   "source": [
    "# 4. Анализ данных"
   ]
  },
  {
   "cell_type": "code",
   "execution_count": 53,
   "metadata": {},
   "outputs": [],
   "source": [
    "AOV = 28000# средний чек до теста"
   ]
  },
  {
   "cell_type": "code",
   "execution_count": 54,
   "metadata": {},
   "outputs": [],
   "source": [
    "AOV_TEST = 34000 # средний после теста"
   ]
  },
  {
   "cell_type": "code",
   "execution_count": 55,
   "metadata": {},
   "outputs": [],
   "source": [
    "col_client=100000 # количество клиентов в когорте"
   ]
  },
  {
   "cell_type": "markdown",
   "metadata": {},
   "source": [
    "#### Когорты клиентов и до и после теста совершают 1 покупку в месяц в среднем"
   ]
  },
  {
   "cell_type": "markdown",
   "metadata": {},
   "source": [
    "# Вычислим LTV в разрезе когорт по формуле: \n",
    "LTV = (T x AOV) x ALT\n",
    "\n",
    "T — количество продаж за месяц (среднее).\n",
    "\n",
    "AOV — сумма среднего чека.\n",
    "\n",
    "ALT — срок сотрудничества с пользователем в месяцах (средний)."
   ]
  },
  {
   "cell_type": "markdown",
   "metadata": {},
   "source": [
    "#### С помощью функции \"ср_e\" вычислим метрики T и ALT в разрезе когорт, а также создадим столбцы с данными значениями"
   ]
  },
  {
   "cell_type": "code",
   "execution_count": 56,
   "metadata": {},
   "outputs": [],
   "source": [
    "def ср_e(x):\n",
    "    for i in x.index:\n",
    "        x.loc[i,'T']= ((x.loc[i]*col_client)/100).mean()\n",
    "        x.loc[i,'ALT']=round((100/(100 - x.loc[i])).mean())"
   ]
  },
  {
   "cell_type": "code",
   "execution_count": 57,
   "metadata": {},
   "outputs": [],
   "source": [
    "ср_e(df2)"
   ]
  },
  {
   "cell_type": "code",
   "execution_count": 58,
   "metadata": {},
   "outputs": [
    {
     "data": {
      "text/html": [
       "<div>\n",
       "<style scoped>\n",
       "    .dataframe tbody tr th:only-of-type {\n",
       "        vertical-align: middle;\n",
       "    }\n",
       "\n",
       "    .dataframe tbody tr th {\n",
       "        vertical-align: top;\n",
       "    }\n",
       "\n",
       "    .dataframe thead th {\n",
       "        text-align: right;\n",
       "    }\n",
       "</style>\n",
       "<table border=\"1\" class=\"dataframe\">\n",
       "  <thead>\n",
       "    <tr style=\"text-align: right;\">\n",
       "      <th></th>\n",
       "      <th>Месяц1_RR</th>\n",
       "      <th>Месяц2_RR</th>\n",
       "      <th>Месяц3_RR</th>\n",
       "      <th>Месяц4_RR</th>\n",
       "      <th>Месяц5_RR</th>\n",
       "      <th>Месяц6_RR</th>\n",
       "      <th>Месяц7_RR</th>\n",
       "      <th>Месяц8_RR</th>\n",
       "      <th>Месяц9_RR</th>\n",
       "      <th>Месяц10_RR</th>\n",
       "      <th>Месяц11_RR</th>\n",
       "      <th>Месяц12_RR</th>\n",
       "      <th>T</th>\n",
       "      <th>ALT</th>\n",
       "    </tr>\n",
       "  </thead>\n",
       "  <tbody>\n",
       "    <tr>\n",
       "      <th>2019-06-01</th>\n",
       "      <td>22</td>\n",
       "      <td>16</td>\n",
       "      <td>11</td>\n",
       "      <td>9</td>\n",
       "      <td>8</td>\n",
       "      <td>7</td>\n",
       "      <td>4</td>\n",
       "      <td>3</td>\n",
       "      <td>3</td>\n",
       "      <td>3</td>\n",
       "      <td>2</td>\n",
       "      <td>2</td>\n",
       "      <td>7500.000000</td>\n",
       "      <td>1.0</td>\n",
       "    </tr>\n",
       "    <tr>\n",
       "      <th>2019-07-01</th>\n",
       "      <td>21</td>\n",
       "      <td>14</td>\n",
       "      <td>10</td>\n",
       "      <td>9</td>\n",
       "      <td>7</td>\n",
       "      <td>6</td>\n",
       "      <td>6</td>\n",
       "      <td>5</td>\n",
       "      <td>4</td>\n",
       "      <td>4</td>\n",
       "      <td>3</td>\n",
       "      <td>3</td>\n",
       "      <td>7666.666667</td>\n",
       "      <td>1.0</td>\n",
       "    </tr>\n",
       "  </tbody>\n",
       "</table>\n",
       "</div>"
      ],
      "text/plain": [
       "            Месяц1_RR  Месяц2_RR  Месяц3_RR  Месяц4_RR  Месяц5_RR  Месяц6_RR  \\\n",
       "2019-06-01         22         16         11          9          8          7   \n",
       "2019-07-01         21         14         10          9          7          6   \n",
       "\n",
       "            Месяц7_RR  Месяц8_RR  Месяц9_RR  Месяц10_RR  Месяц11_RR  \\\n",
       "2019-06-01          4          3          3           3           2   \n",
       "2019-07-01          6          5          4           4           3   \n",
       "\n",
       "            Месяц12_RR            T  ALT  \n",
       "2019-06-01           2  7500.000000  1.0  \n",
       "2019-07-01           3  7666.666667  1.0  "
      ]
     },
     "execution_count": 58,
     "metadata": {},
     "output_type": "execute_result"
    }
   ],
   "source": [
    "df2.head(2)"
   ]
  },
  {
   "cell_type": "markdown",
   "metadata": {},
   "source": [
    "### Расчитаем LTV по когортам"
   ]
  },
  {
   "cell_type": "code",
   "execution_count": 59,
   "metadata": {},
   "outputs": [],
   "source": [
    "a = round(df2.loc[:'2021-06-01','T']*AOV) # расчитаем LTV по контрольным когортам"
   ]
  },
  {
   "cell_type": "code",
   "execution_count": 60,
   "metadata": {},
   "outputs": [],
   "source": [
    "a['2021-07-01 00:00:00'] = round(df2.loc['2021-07-01','T']*AOV_TEST)# расчитаем LTV по тестовой когорте"
   ]
  },
  {
   "cell_type": "code",
   "execution_count": 61,
   "metadata": {},
   "outputs": [],
   "source": [
    "LTV = pd.DataFrame({\"LTV\":a},index =pd.date_range('2019-06-01', periods=26, freq='MS'))"
   ]
  },
  {
   "cell_type": "code",
   "execution_count": 62,
   "metadata": {},
   "outputs": [
    {
     "data": {
      "text/plain": [
       "Text(0, 0.5, 'Сумма')"
      ]
     },
     "execution_count": 62,
     "metadata": {},
     "output_type": "execute_result"
    },
    {
     "data": {
      "image/png": "[encoded data removed]",
      "text/plain": [
       "<Figure size 432x288 with 1 Axes>"
      ]
     },
     "metadata": {
      "needs_background": "light"
     },
     "output_type": "display_data"
    }
   ],
   "source": [
    "LTV.plot(title = 'LTV по когортам за весь период')\n",
    "plt.xlabel('Дата')\n",
    "plt.ylabel('Сумма')"
   ]
  },
  {
   "cell_type": "code",
   "execution_count": 63,
   "metadata": {},
   "outputs": [
    {
     "data": {
      "text/plain": [
       "<AxesSubplot:title={'center':'LTV'}, xlabel='Сумма', ylabel='Когорта'>"
      ]
     },
     "execution_count": 63,
     "metadata": {},
     "output_type": "execute_result"
    },
    {
     "data": {
      "image/png": "[encoded data removed]",
      "text/plain": [
       "<Figure size 432x288 with 1 Axes>"
      ]
     },
     "metadata": {
      "needs_background": "light"
     },
     "output_type": "display_data"
    }
   ],
   "source": [
    "x = ['Январь 2021', 'Феварль 2021', 'Март 2021','Апрель 2021', 'Май 2021', 'Июнь 2021', 'Июль 2021 - Тест']\n",
    "y = LTV.loc['2021-01-01':,'LTV'].values\n",
    "plt.xlabel('Сумма')\n",
    "plt.ylabel('Когорта')\n",
    "plt.title(\"LTV\")\n",
    "sns.barplot(x=y, y=x)"
   ]
  },
  {
   "cell_type": "markdown",
   "metadata": {},
   "source": [
    "## Выводы  по заданию № 2 : \n",
    "Согласно полученным данным наблюдается общее снижение LTV клиентов пришедших в 2021 году по сравнению с клиентами 2020 года.  В тестовой когорте (июль 2021 года) повышение цены повлияло на увелечение потенциального LVT по сравнению с остальными когортами 2021 года. С целью достижения в 2021 году показателей LTV когорт 2020 года необходимо скорректировать цены в сторону увеличения.                       "
   ]
  },
  {
   "cell_type": "markdown",
   "metadata": {},
   "source": [
    "# Задание 3.\n",
    "После окончательного принятия решения по ценам продакт решил\n",
    "провести анализ поведения пользователей на сайте, чтобы улучшить\n",
    "конверсию в продажу. Анализ такого рода ранее не проводился, есть\n",
    "гипотеза, что мы теряем деньги на промежуточных шагах конверсии.\n",
    "Необходимо:\n",
    "1. Провести анализ основных этапов создания заказа и выяснить\n",
    "самые проблемные шаги\n",
    "2. Проанализировать поведение пользователей и выявить\n",
    "минорные сценарии, которые не приводят к конверсии, с помощью\n",
    "диаграммы sunburst, retentioneering или любым другим удобным\n",
    "для вас способом\n",
    "3. Сформировать 2-3 гипотезы для расширения самых проблемных\n",
    "мест воронки, сделать выводы о том, какие минорные\n",
    "пользовательские сценарии преобладают и в первую очередь\n",
    "нуждаются в улучшении\n",
    "Исходные данные за 1 полугодие 2021 года:\n",
    "• ID события\n",
    "• ID клиента\n",
    "• ID сессии\n",
    "• Время события\n",
    "• Тип девайса\n",
    "• Тип страницы\n",
    "• Канал привлечения"
   ]
  },
  {
   "cell_type": "code",
   "execution_count": 64,
   "metadata": {},
   "outputs": [],
   "source": [
    "import pymysql\n",
    "import retentioneering"
   ]
  },
  {
   "cell_type": "code",
   "execution_count": 65,
   "metadata": {},
   "outputs": [],
   "source": [
    "conn = pymysql.connect(host='5.188.141.238', port=3306, user='student', password='UG!9zS7Hc1033V1u', db='db', charset='utf8')"
   ]
  },
  {
   "cell_type": "markdown",
   "metadata": {},
   "source": [
    "Посмотрим распределение клиентов между типами страниц в разрезе ID клиента"
   ]
  },
  {
   "cell_type": "code",
   "execution_count": 66,
   "metadata": {},
   "outputs": [],
   "source": [
    "sql = \"\"\"\n",
    "SELECT page_type, count(distinct(client_id)) client_id\n",
    "from `dataset-000` d\n",
    "group by page_type\n",
    "order by client_id desc \n",
    "\"\"\""
   ]
  },
  {
   "cell_type": "code",
   "execution_count": 67,
   "metadata": {},
   "outputs": [],
   "source": [
    "df3_1 = pd.read_sql_query(sql,con=conn)"
   ]
  },
  {
   "cell_type": "code",
   "execution_count": 68,
   "metadata": {},
   "outputs": [
    {
     "data": {
      "text/html": [
       "<div>\n",
       "<style scoped>\n",
       "    .dataframe tbody tr th:only-of-type {\n",
       "        vertical-align: middle;\n",
       "    }\n",
       "\n",
       "    .dataframe tbody tr th {\n",
       "        vertical-align: top;\n",
       "    }\n",
       "\n",
       "    .dataframe thead th {\n",
       "        text-align: right;\n",
       "    }\n",
       "</style>\n",
       "<table border=\"1\" class=\"dataframe\">\n",
       "  <thead>\n",
       "    <tr style=\"text-align: right;\">\n",
       "      <th></th>\n",
       "      <th>page_type</th>\n",
       "      <th>client_id</th>\n",
       "    </tr>\n",
       "  </thead>\n",
       "  <tbody>\n",
       "    <tr>\n",
       "      <th>0</th>\n",
       "      <td>product_card</td>\n",
       "      <td>323414</td>\n",
       "    </tr>\n",
       "    <tr>\n",
       "      <th>1</th>\n",
       "      <td>catalog</td>\n",
       "      <td>302048</td>\n",
       "    </tr>\n",
       "    <tr>\n",
       "      <th>2</th>\n",
       "      <td>main</td>\n",
       "      <td>146323</td>\n",
       "    </tr>\n",
       "    <tr>\n",
       "      <th>3</th>\n",
       "      <td>search</td>\n",
       "      <td>46958</td>\n",
       "    </tr>\n",
       "    <tr>\n",
       "      <th>4</th>\n",
       "      <td>sale</td>\n",
       "      <td>37837</td>\n",
       "    </tr>\n",
       "    <tr>\n",
       "      <th>5</th>\n",
       "      <td>service</td>\n",
       "      <td>34240</td>\n",
       "    </tr>\n",
       "    <tr>\n",
       "      <th>6</th>\n",
       "      <td>basket</td>\n",
       "      <td>26890</td>\n",
       "    </tr>\n",
       "    <tr>\n",
       "      <th>7</th>\n",
       "      <td>loyalty_program</td>\n",
       "      <td>12713</td>\n",
       "    </tr>\n",
       "    <tr>\n",
       "      <th>8</th>\n",
       "      <td>checkout</td>\n",
       "      <td>11947</td>\n",
       "    </tr>\n",
       "    <tr>\n",
       "      <th>9</th>\n",
       "      <td>personal</td>\n",
       "      <td>7808</td>\n",
       "    </tr>\n",
       "    <tr>\n",
       "      <th>10</th>\n",
       "      <td>order_created</td>\n",
       "      <td>6046</td>\n",
       "    </tr>\n",
       "    <tr>\n",
       "      <th>11</th>\n",
       "      <td>discount</td>\n",
       "      <td>5541</td>\n",
       "    </tr>\n",
       "    <tr>\n",
       "      <th>12</th>\n",
       "      <td>favorites</td>\n",
       "      <td>5325</td>\n",
       "    </tr>\n",
       "    <tr>\n",
       "      <th>13</th>\n",
       "      <td>personal_orders</td>\n",
       "      <td>2275</td>\n",
       "    </tr>\n",
       "  </tbody>\n",
       "</table>\n",
       "</div>"
      ],
      "text/plain": [
       "          page_type  client_id\n",
       "0      product_card     323414\n",
       "1           catalog     302048\n",
       "2              main     146323\n",
       "3            search      46958\n",
       "4              sale      37837\n",
       "5           service      34240\n",
       "6            basket      26890\n",
       "7   loyalty_program      12713\n",
       "8          checkout      11947\n",
       "9          personal       7808\n",
       "10    order_created       6046\n",
       "11         discount       5541\n",
       "12        favorites       5325\n",
       "13  personal_orders       2275"
      ]
     },
     "execution_count": 68,
     "metadata": {},
     "output_type": "execute_result"
    }
   ],
   "source": [
    "df3_1"
   ]
  },
  {
   "cell_type": "markdown",
   "metadata": {},
   "source": [
    "#### Как видно из таблицы у нас следующие типы страниц:\n",
    "- карточка продукта;\n",
    "- каталог;\n",
    "- меню;\n",
    "- поиск;\n",
    "- продажа;\n",
    "- обслуживание;\n",
    "- корзина;\n",
    "- программа лояльности;\n",
    "- проверка;\n",
    "- личный;\n",
    "- заказ_создан;\n",
    "- скидка;\n",
    "- избранное;\n",
    "- персональные_заказы\n",
    "\n",
    "Наиболее используемый тип страницы без привязки к типу устройства: product_card (карточка продукта) - 323414 клиентов, catalog (каталог) - 302048 клиентов, main (меню) - 146323 клиентов."
   ]
  },
  {
   "cell_type": "markdown",
   "metadata": {},
   "source": [
    "### 1. Для анализ основных этапов создания заказа построим step_matrix для нашего набора данных со следующим параметрами: max_steps=12,thresh=0.02, targets='sale'"
   ]
  },
  {
   "cell_type": "code",
   "execution_count": 69,
   "metadata": {},
   "outputs": [],
   "source": [
    "sql1 = \"\"\"\n",
    "SELECT d.client_id, d.page_type, d.timestamp\n",
    "from `dataset-000` d\n",
    "\"\"\""
   ]
  },
  {
   "cell_type": "code",
   "execution_count": 70,
   "metadata": {},
   "outputs": [
    {
     "name": "stdout",
     "output_type": "stream",
     "text": [
      "Execution time of the program is-  177.4050807952881\n"
     ]
    }
   ],
   "source": [
    "import time\n",
    "start = time.time()\n",
    "df3_2 = pd.read_sql_query(sql1,con=conn)\n",
    "end = time.time()\n",
    "print(\"Execution time of the program is- \", end-start)"
   ]
  },
  {
   "cell_type": "code",
   "execution_count": 71,
   "metadata": {},
   "outputs": [],
   "source": [
    "retentioneering.config.update({\n",
    "    'user_col': 'client_id',\n",
    "    'event_col':'page_type',\n",
    "    'event_time_col':'timestamp',\n",
    "})"
   ]
  },
  {
   "cell_type": "code",
   "execution_count": 72,
   "metadata": {},
   "outputs": [
    {
     "data": {
      "text/html": [
       "<div>\n",
       "<style scoped>\n",
       "    .dataframe tbody tr th:only-of-type {\n",
       "        vertical-align: middle;\n",
       "    }\n",
       "\n",
       "    .dataframe tbody tr th {\n",
       "        vertical-align: top;\n",
       "    }\n",
       "\n",
       "    .dataframe thead th {\n",
       "        text-align: right;\n",
       "    }\n",
       "</style>\n",
       "<table border=\"1\" class=\"dataframe\">\n",
       "  <thead>\n",
       "    <tr style=\"text-align: right;\">\n",
       "      <th></th>\n",
       "      <th>1</th>\n",
       "      <th>2</th>\n",
       "      <th>3</th>\n",
       "      <th>4</th>\n",
       "      <th>5</th>\n",
       "      <th>6</th>\n",
       "      <th>7</th>\n",
       "      <th>8</th>\n",
       "      <th>9</th>\n",
       "      <th>10</th>\n",
       "      <th>11</th>\n",
       "      <th>12</th>\n",
       "    </tr>\n",
       "  </thead>\n",
       "  <tbody>\n",
       "    <tr>\n",
       "      <th>product_card</th>\n",
       "      <td>0.341258</td>\n",
       "      <td>0.190984</td>\n",
       "      <td>0.177608</td>\n",
       "      <td>0.155403</td>\n",
       "      <td>0.138011</td>\n",
       "      <td>0.121975</td>\n",
       "      <td>0.111142</td>\n",
       "      <td>0.101147</td>\n",
       "      <td>0.092258</td>\n",
       "      <td>0.083466</td>\n",
       "      <td>0.078216</td>\n",
       "      <td>0.071718</td>\n",
       "    </tr>\n",
       "    <tr>\n",
       "      <th>catalog</th>\n",
       "      <td>0.336441</td>\n",
       "      <td>0.328295</td>\n",
       "      <td>0.245250</td>\n",
       "      <td>0.208684</td>\n",
       "      <td>0.178517</td>\n",
       "      <td>0.158760</td>\n",
       "      <td>0.139972</td>\n",
       "      <td>0.126489</td>\n",
       "      <td>0.113418</td>\n",
       "      <td>0.105057</td>\n",
       "      <td>0.095211</td>\n",
       "      <td>0.089145</td>\n",
       "    </tr>\n",
       "    <tr>\n",
       "      <th>main</th>\n",
       "      <td>0.240170</td>\n",
       "      <td>0.025923</td>\n",
       "      <td>0.030512</td>\n",
       "      <td>0.017925</td>\n",
       "      <td>0.017877</td>\n",
       "      <td>0.013148</td>\n",
       "      <td>0.012715</td>\n",
       "      <td>0.010147</td>\n",
       "      <td>0.010208</td>\n",
       "      <td>0.008788</td>\n",
       "      <td>0.008357</td>\n",
       "      <td>0.007347</td>\n",
       "    </tr>\n",
       "    <tr>\n",
       "      <th>search</th>\n",
       "      <td>0.003658</td>\n",
       "      <td>0.027279</td>\n",
       "      <td>0.017406</td>\n",
       "      <td>0.016604</td>\n",
       "      <td>0.013098</td>\n",
       "      <td>0.012055</td>\n",
       "      <td>0.010204</td>\n",
       "      <td>0.009409</td>\n",
       "      <td>0.008277</td>\n",
       "      <td>0.007831</td>\n",
       "      <td>0.006958</td>\n",
       "      <td>0.006470</td>\n",
       "    </tr>\n",
       "    <tr>\n",
       "      <th>sale</th>\n",
       "      <td>0.029780</td>\n",
       "      <td>0.014059</td>\n",
       "      <td>0.007503</td>\n",
       "      <td>0.006314</td>\n",
       "      <td>0.004975</td>\n",
       "      <td>0.004463</td>\n",
       "      <td>0.003752</td>\n",
       "      <td>0.003319</td>\n",
       "      <td>0.003143</td>\n",
       "      <td>0.002520</td>\n",
       "      <td>0.002476</td>\n",
       "      <td>0.002303</td>\n",
       "    </tr>\n",
       "    <tr>\n",
       "      <th>service</th>\n",
       "      <td>0.023308</td>\n",
       "      <td>0.012829</td>\n",
       "      <td>0.007911</td>\n",
       "      <td>0.006178</td>\n",
       "      <td>0.005048</td>\n",
       "      <td>0.004459</td>\n",
       "      <td>0.003727</td>\n",
       "      <td>0.003275</td>\n",
       "      <td>0.002930</td>\n",
       "      <td>0.002791</td>\n",
       "      <td>0.002499</td>\n",
       "      <td>0.002238</td>\n",
       "    </tr>\n",
       "    <tr>\n",
       "      <th>ENDED</th>\n",
       "      <td>0.000000</td>\n",
       "      <td>0.380834</td>\n",
       "      <td>0.497908</td>\n",
       "      <td>0.575190</td>\n",
       "      <td>0.630804</td>\n",
       "      <td>0.674383</td>\n",
       "      <td>0.708637</td>\n",
       "      <td>0.737033</td>\n",
       "      <td>0.760896</td>\n",
       "      <td>0.781278</td>\n",
       "      <td>0.798415</td>\n",
       "      <td>0.813343</td>\n",
       "    </tr>\n",
       "    <tr>\n",
       "      <th>THRESHOLDED_8</th>\n",
       "      <td>0.025384</td>\n",
       "      <td>0.019797</td>\n",
       "      <td>0.015902</td>\n",
       "      <td>0.013702</td>\n",
       "      <td>0.011670</td>\n",
       "      <td>0.010757</td>\n",
       "      <td>0.009850</td>\n",
       "      <td>0.009181</td>\n",
       "      <td>0.008870</td>\n",
       "      <td>0.008269</td>\n",
       "      <td>0.007869</td>\n",
       "      <td>0.007436</td>\n",
       "    </tr>\n",
       "  </tbody>\n",
       "</table>\n",
       "</div>"
      ],
      "text/plain": [
       "                     1         2         3         4         5         6   \\\n",
       "product_card   0.341258  0.190984  0.177608  0.155403  0.138011  0.121975   \n",
       "catalog        0.336441  0.328295  0.245250  0.208684  0.178517  0.158760   \n",
       "main           0.240170  0.025923  0.030512  0.017925  0.017877  0.013148   \n",
       "search         0.003658  0.027279  0.017406  0.016604  0.013098  0.012055   \n",
       "sale           0.029780  0.014059  0.007503  0.006314  0.004975  0.004463   \n",
       "service        0.023308  0.012829  0.007911  0.006178  0.005048  0.004459   \n",
       "ENDED          0.000000  0.380834  0.497908  0.575190  0.630804  0.674383   \n",
       "THRESHOLDED_8  0.025384  0.019797  0.015902  0.013702  0.011670  0.010757   \n",
       "\n",
       "                     7         8         9         10        11        12  \n",
       "product_card   0.111142  0.101147  0.092258  0.083466  0.078216  0.071718  \n",
       "catalog        0.139972  0.126489  0.113418  0.105057  0.095211  0.089145  \n",
       "main           0.012715  0.010147  0.010208  0.008788  0.008357  0.007347  \n",
       "search         0.010204  0.009409  0.008277  0.007831  0.006958  0.006470  \n",
       "sale           0.003752  0.003319  0.003143  0.002520  0.002476  0.002303  \n",
       "service        0.003727  0.003275  0.002930  0.002791  0.002499  0.002238  \n",
       "ENDED          0.708637  0.737033  0.760896  0.781278  0.798415  0.813343  \n",
       "THRESHOLDED_8  0.009850  0.009181  0.008870  0.008269  0.007869  0.007436  "
      ]
     },
     "execution_count": 72,
     "metadata": {},
     "output_type": "execute_result"
    },
    {
     "data": {
      "image/png": "[encoded data removed]",
      "text/plain": [
       "<Figure size 576x360 with 2 Axes>"
      ]
     },
     "metadata": {
      "needs_background": "light"
     },
     "output_type": "display_data"
    }
   ],
   "source": [
    "df3_2.rete.step_matrix(max_steps=12,thresh=0.02,\n",
    "                      targets=['sale'])"
   ]
  },
  {
   "cell_type": "markdown",
   "metadata": {},
   "source": [
    "Посмотрим на первый столбец, мы можем сказать, что пользователи в анализируемых данных начинают свои сеансы с каталога продуктов (34%), с общего каталога (34%) и меню (24%). На шаге № 2 38% пользователей уже завершили свои сеансы и не имеют других событий (строка, завершанная на шаге 2, равна 0,38). Далее мы видим, что 58% пользователей завершают свои сеансы с 4 события, далее с 5 события действия клиентов приводят к очень маленькой конверсии \"sale\" = 0. \n",
    "\n",
    "Проблемные шаги: \n",
    "- идет уменьшение клиентов в шаге № 2 (19%) по сравнению с шагом № 1 (34%) в каталоге продуктов;\n",
    "- идет уменьшение клиентов в шаге № 2 (24%) по сравнению с шагом № 1 (3%) в меню"
   ]
  },
  {
   "cell_type": "markdown",
   "metadata": {},
   "source": [
    "### 2. Анализ поведение пользователей с помощью диаграммы retentioneering "
   ]
  },
  {
   "cell_type": "markdown",
   "metadata": {},
   "source": [
    "Для анализа минорных сценариев добавим тип страницы \"lost\" c помощью функции (если client_id в течение дня не совершил покупку, то добавим по пользователю тип старницы \"lost\" по максимальному \"timestamp\" в рассматриваемый день) "
   ]
  },
  {
   "cell_type": "code",
   "execution_count": 73,
   "metadata": {},
   "outputs": [],
   "source": [
    "def lost(y):\n",
    "    y['дата']=y[\"timestamp\"].apply(lambda x: x[:10])\n",
    "    y['ity']=y[['client_id','дата']].apply(lambda x: ''.join(x),axis=1)\n",
    "    sal = y[y['page_type']=='sale']['ity'].tolist()\n",
    "    y1 = y.loc[~y['ity'].isin(sal)]\n",
    "    piv = pd.pivot_table(y1, index=['дата','client_id'], values=[\"timestamp\"], aggfunc=np.max)\n",
    "    m = [i[0] for i in piv.values]\n",
    "    filter1= y1['timestamp'].isin(m)\n",
    "    y1=y1[filter1]\n",
    "    y1['page_type']='lost'\n",
    "    y2=pd.concat([y,y1])\n",
    "    y2.reset_index(inplace = True)\n",
    "    y3= y2.drop(columns=['index','дата','ity'])\n",
    "    return y3 "
   ]
  },
  {
   "cell_type": "code",
   "execution_count": 74,
   "metadata": {},
   "outputs": [
    {
     "name": "stdout",
     "output_type": "stream",
     "text": [
      "Execution time of the program is-  457.02527952194214\n"
     ]
    }
   ],
   "source": [
    "start = time.time()\n",
    "df3_3=lost(df3_2)\n",
    "end = time.time()\n",
    "print(\"Execution time of the program is- \", end-start)"
   ]
  },
  {
   "cell_type": "code",
   "execution_count": 75,
   "metadata": {},
   "outputs": [
    {
     "data": {
      "text/html": [
       "\n",
       "        <iframe\n",
       "            width=\"1000\"\n",
       "            height=\"700\"\n",
       "            src=\"experiments/graph_2022-05-05 22_56_58_753099.html\"\n",
       "            frameborder=\"0\"\n",
       "            allowfullscreen\n",
       "        ></iframe>\n",
       "        "
      ],
      "text/plain": [
       "<IPython.lib.display.IFrame at 0x1c08584ea60>"
      ]
     },
     "metadata": {},
     "output_type": "display_data"
    },
    {
     "data": {
      "text/plain": [
       "'experiments/graph_2022-05-05 22_56_58_753099.html'"
      ]
     },
     "execution_count": 75,
     "metadata": {},
     "output_type": "execute_result"
    }
   ],
   "source": [
    "df3_3.rete.plot_graph(norm_type='full',\n",
    "                     weight_col='client_id',\n",
    "                     thresh=0.02,\n",
    "                     targets = {'sale':'green','lost':'red'})"
   ]
  },
  {
   "cell_type": "markdown",
   "metadata": {},
   "source": [
    "### На диаграмме видна сценарии, которые не приводят к конверсии:\n",
    "1. main -  search -  product_card - lost;\n",
    "\n",
    "2. main -  catalog - product_card - lost;\n",
    "\n",
    "3. main - catalog -  product_card - service -  lost."
   ]
  },
  {
   "cell_type": "markdown",
   "metadata": {},
   "source": [
    "## 3. Сформируем 2-3 гипотезы для расширения самых проблемных мест воронки."
   ]
  },
  {
   "cell_type": "markdown",
   "metadata": {},
   "source": [
    "Исходя из проведенного анализа установлена, что проблемных места воронки и минорные пользовательские сценарии связаны со следующими типами страниц : main,  catalog, product_card.\n",
    "##### 1. Гипотеза карточки товара:\n",
    "Если в карточку товара добавить больше полезной структурированной информации, пользователям будет, на что опираться при принятии решения. Это должно быть то, что отличает товар от других аналогичных. В карточку можно добавить информацию о полученных товаром премиях, о том, что он выбран определенное количество раз, ввести шкалу рейтинга покупки товара, сделать ставку на преимущества компании. Эта гипотеза увеличивает CR более чем на 20%;\n",
    "\n",
    "##### 2. Гипотеза Меню\n",
    "Основные элементы, на которые кликает посетитель, могут принести конверсию, если удачно поменять оттенок, CR может возрости более чем на 10%;\n",
    "\n",
    "##### 3. Гипотеза Каталог\n",
    "Если сделать удобный каталог и фильтрацию CR вырастит более чем на 15%.  Разместить группы товаров и фильтрацию слева, справа — превью карточек товара. На превью карточек товара указать название, доступные размеры, цену, миниатюру фото, кнопку «Купить” или “Подробнее».\n",
    "Сверху над превью товаров разместите сортировку по стоимости и по популярности;\n",
    "\n"
   ]
  },
  {
   "cell_type": "markdown",
   "metadata": {},
   "source": [
    "# Задание 4.\n",
    "После выполнения предыдущего задания продакт ставит вам задачу\n",
    "«покопаться» в пользователях с минорными сценариями, чтобы\n",
    "выяснить, чем они отличаются по характеристикам от тех, кто доходит\n",
    "до покупки.\n",
    "Необходимо:\n",
    "1. Провести кластеризацию пользователей с покупкой и наихудшими\n",
    "паттернами, чтобы понять ключевые отличия\n",
    "2. Сформулировать выводы о том, в чем основная причина отличия\n",
    "пользователей, которые показывают худшие сценарии поведения\n",
    "при покупке, от тех, кто покупку совершает\n",
    "3. Продумать дополнительный список параметров, который вы бы\n",
    "предпочли добавить для кластерного анализа, если бы у вас была\n",
    "такая возможность\n",
    "Исходные данные за 1 полугодие 2021 года:\n",
    "• ID события\n",
    "• ID клиента\n",
    "• ID сессии\n",
    "• Время события\n",
    "• Тип девайса\n",
    "• Тип страницы\n",
    "• Канал привлечения"
   ]
  },
  {
   "cell_type": "code",
   "execution_count": 4,
   "metadata": {},
   "outputs": [],
   "source": [
    "sql2 = \"\"\"\n",
    "SELECT d.client_id,d.timestamp, d.page_type, d.device_type, d.channel\n",
    "from `dataset-000` d\n",
    "\"\"\""
   ]
  },
  {
   "cell_type": "code",
   "execution_count": 6,
   "metadata": {},
   "outputs": [],
   "source": [
    "df4 = pd.read_sql_query(sql2,con=conn)"
   ]
  },
  {
   "cell_type": "markdown",
   "metadata": {},
   "source": [
    "### 1. Проведем кластеризацию пользователей с покупкой и наихудшими паттернами"
   ]
  },
  {
   "cell_type": "markdown",
   "metadata": {},
   "source": [
    "### Для подбора оптимального количества кластеров по нашим данным воспользуемся диаграммой локтя"
   ]
  },
  {
   "cell_type": "code",
   "execution_count": 7,
   "metadata": {},
   "outputs": [],
   "source": [
    "df4_1=df4[['client_id','page_type']]"
   ]
  },
  {
   "cell_type": "code",
   "execution_count": 8,
   "metadata": {},
   "outputs": [],
   "source": [
    "from sklearn.cluster import KMeans"
   ]
  },
  {
   "cell_type": "code",
   "execution_count": 9,
   "metadata": {},
   "outputs": [
    {
     "name": "stderr",
     "output_type": "stream",
     "text": [
      "C:\\ProgramData\\Anaconda3\\lib\\site-packages\\pandas\\core\\frame.py:3607: SettingWithCopyWarning: \n",
      "A value is trying to be set on a copy of a slice from a DataFrame.\n",
      "Try using .loc[row_indexer,col_indexer] = value instead\n",
      "\n",
      "See the caveats in the documentation: https://pandas.pydata.org/pandas-docs/stable/user_guide/indexing.html#returning-a-view-versus-a-copy\n",
      "  self._set_item(key, value)\n"
     ]
    }
   ],
   "source": [
    "from sklearn.preprocessing import LabelEncoder # проведем кодирование данных\n",
    "le = LabelEncoder()\n",
    "for i in df4_1.columns:\n",
    "    df4_1[i] = le.fit_transform(df4_1[i])"
   ]
  },
  {
   "cell_type": "code",
   "execution_count": 10,
   "metadata": {},
   "outputs": [
    {
     "data": {
      "image/png": "[encoded data removed]",
      "text/plain": [
       "<Figure size 864x720 with 1 Axes>"
      ]
     },
     "metadata": {
      "needs_background": "light"
     },
     "output_type": "display_data"
    }
   ],
   "source": [
    "error = []\n",
    "\n",
    "for k in range(1, 8):\n",
    "    k_means = KMeans(n_clusters = k, random_state = 42)\n",
    "    k_means.fit(df4_1)\n",
    "    error.append(k_means.inertia_)\n",
    "    \n",
    "plt.figure(figsize=(12, 10))\n",
    "plt.title('Диаграмма локтя')\n",
    "plt.plot(range(1, 8), error)\n",
    "plt.xlabel('Кол-во кластеров')\n",
    "plt.ylabel('Сумма расстояний')\n",
    "plt.show()"
   ]
  },
  {
   "cell_type": "markdown",
   "metadata": {},
   "source": [
    "### Как видно из Диаграммы локтя оптимальное количество кластеров 5. Теперь мы можем использовать метод get_clusters ( библиотека retentioneering)  для разделения пользователей на группы в зависимости от того, насколько похоже их поведение."
   ]
  },
  {
   "cell_type": "code",
   "execution_count": 8,
   "metadata": {},
   "outputs": [
    {
     "data": {
      "image/png": "[encoded data removed]",
      "text/plain": [
       "<Figure size 432x432 with 1 Axes>"
      ]
     },
     "metadata": {
      "needs_background": "light"
     },
     "output_type": "display_data"
    }
   ],
   "source": [
    "df4.rete.get_clusters(method='kmeans',\n",
    "                       feature_type='tfidf',\n",
    "                       n_clusters=5,\n",
    "                       ngram_range=(1,2),\n",
    "                       plot_type='cluster_bar',\n",
    "                       targets=['sale']);"
   ]
  },
  {
   "cell_type": "markdown",
   "metadata": {},
   "source": [
    "##### Из диаграммы видно, что 1, 2, 3 кластер совершают покупки, при этом у 2 кластера  около 90 % конверсии ('sale'). Наихудшие паттерны у 0 и 4 кластера.   "
   ]
  },
  {
   "cell_type": "markdown",
   "metadata": {},
   "source": [
    "### 2. Анализ основных причин отличия пользователей, которые показывают худшие сценарии поведения при покупке, от тех, кто покупку совершает."
   ]
  },
  {
   "cell_type": "markdown",
   "metadata": {},
   "source": [
    "### Посмотрим отличия пользователей кластера  0 и 4 от кластера 2"
   ]
  },
  {
   "cell_type": "code",
   "execution_count": 9,
   "metadata": {},
   "outputs": [],
   "source": [
    "clus_0 = df4.rete.filter_cluster(0)"
   ]
  },
  {
   "cell_type": "code",
   "execution_count": 10,
   "metadata": {},
   "outputs": [],
   "source": [
    "clus_2 = df4.rete.filter_cluster(2)"
   ]
  },
  {
   "cell_type": "code",
   "execution_count": 11,
   "metadata": {},
   "outputs": [],
   "source": [
    "clus_4 = df4.rete.filter_cluster(4)"
   ]
  },
  {
   "cell_type": "code",
   "execution_count": 12,
   "metadata": {},
   "outputs": [
    {
     "data": {
      "text/plain": [
       "channel\n",
       "Google     39035\n",
       "NonPaid    19959\n",
       "Yandex     16093\n",
       "Name: client_id, dtype: int64"
      ]
     },
     "execution_count": 12,
     "metadata": {},
     "output_type": "execute_result"
    }
   ],
   "source": [
    "clus_0.groupby(['channel']).nunique()['client_id'].sort_values(ascending = False).head(3)"
   ]
  },
  {
   "cell_type": "code",
   "execution_count": 13,
   "metadata": {},
   "outputs": [
    {
     "data": {
      "text/plain": [
       "channel\n",
       "NonPaid    31152\n",
       "SEO        25301\n",
       "Yandex     22024\n",
       "Name: client_id, dtype: int64"
      ]
     },
     "execution_count": 13,
     "metadata": {},
     "output_type": "execute_result"
    }
   ],
   "source": [
    "clus_2.groupby(['channel']).nunique()['client_id'].sort_values(ascending = False).head(3)"
   ]
  },
  {
   "cell_type": "code",
   "execution_count": 14,
   "metadata": {},
   "outputs": [
    {
     "data": {
      "text/plain": [
       "channel\n",
       "SEO        19825\n",
       "Yandex     17098\n",
       "NonPaid    10364\n",
       "Name: client_id, dtype: int64"
      ]
     },
     "execution_count": 14,
     "metadata": {},
     "output_type": "execute_result"
    }
   ],
   "source": [
    "clus_4.groupby(['channel']).nunique()['client_id'].sort_values(ascending = False).head(3)"
   ]
  },
  {
   "cell_type": "markdown",
   "metadata": {},
   "source": [
    "### По каналам привлечения нет значительного отличия в кластерах 0, 2, 4. В кластере 2 и 4 преобладает: SEO, Yandex, NonPaid, в кластере 0 преобладает: Google, NonPaid, Yandex. "
   ]
  },
  {
   "cell_type": "code",
   "execution_count": 40,
   "metadata": {},
   "outputs": [
    {
     "data": {
      "text/plain": [
       "mobile     0.663665\n",
       "desktop    0.321739\n",
       "tablet     0.014167\n",
       "Name: device_type, dtype: float64"
      ]
     },
     "execution_count": 40,
     "metadata": {},
     "output_type": "execute_result"
    }
   ],
   "source": [
    "clus_2.device_type.value_counts(1).head(3)"
   ]
  },
  {
   "cell_type": "code",
   "execution_count": 41,
   "metadata": {},
   "outputs": [
    {
     "data": {
      "text/plain": [
       "mobile     0.720562\n",
       "desktop    0.197095\n",
       "robot      0.066333\n",
       "Name: device_type, dtype: float64"
      ]
     },
     "execution_count": 41,
     "metadata": {},
     "output_type": "execute_result"
    }
   ],
   "source": [
    "clus_0.device_type.value_counts(1).head(3)"
   ]
  },
  {
   "cell_type": "code",
   "execution_count": 42,
   "metadata": {},
   "outputs": [
    {
     "data": {
      "text/plain": [
       "mobile     0.722571\n",
       "desktop    0.247042\n",
       "tablet     0.025384\n",
       "Name: device_type, dtype: float64"
      ]
     },
     "execution_count": 42,
     "metadata": {},
     "output_type": "execute_result"
    }
   ],
   "source": [
    "clus_4.device_type.value_counts(1).head(3)"
   ]
  },
  {
   "cell_type": "markdown",
   "metadata": {},
   "source": [
    "### По устройствам (в процентном соотношении), которыми пользуются пользователи, по кластерам 0, 2, 4 отличий нет. "
   ]
  },
  {
   "cell_type": "code",
   "execution_count": 24,
   "metadata": {},
   "outputs": [
    {
     "data": {
      "image/png": "[encoded data removed]",
      "text/plain": [
       "<Figure size 504x432 with 1 Axes>"
      ]
     },
     "metadata": {
      "needs_background": "light"
     },
     "output_type": "display_data"
    }
   ],
   "source": [
    "df4.rete.cluster_event_dist(2,0)"
   ]
  },
  {
   "cell_type": "code",
   "execution_count": 18,
   "metadata": {},
   "outputs": [
    {
     "data": {
      "image/png": "[encoded data removed]",
      "text/plain": [
       "<Figure size 504x432 with 1 Axes>"
      ]
     },
     "metadata": {
      "needs_background": "light"
     },
     "output_type": "display_data"
    }
   ],
   "source": [
    "df4.rete.cluster_event_dist(2,4)"
   ]
  },
  {
   "cell_type": "markdown",
   "metadata": {},
   "source": [
    "### Вывод: По типам страниц в разрезе рассматриваемых кластеров установлено различие действий пользователей. Пользователи кластера 0 и 4 завершают свои действия на одном типе страниц - это catalog или product_card, а пользователи кластера 2 проходят всю воронку продаж. "
   ]
  },
  {
   "cell_type": "markdown",
   "metadata": {},
   "source": [
    "### 3. Дополнительный список параметров для кластерного анализа"
   ]
  },
  {
   "cell_type": "markdown",
   "metadata": {},
   "source": [
    "#### 1. Местоположение;\n",
    "#### 2. Просмотренная категория товаров;\n",
    "#### 3. Вовлеченность на каждой странице;\n",
    "#### 4. Предпочтения по ценовому диапозону."
   ]
  }
 ],
 "metadata": {
  "kernelspec": {
   "display_name": "Python 3",
   "language": "python",
   "name": "python3"
  },
  "language_info": {
   "codemirror_mode": {
    "name": "ipython",
    "version": 3
   },
   "file_extension": ".py",
   "mimetype": "text/x-python",
   "name": "python",
   "nbconvert_exporter": "python",
   "pygments_lexer": "ipython3",
   "version": "3.8.5"
  }
 },
 "nbformat": 4,
 "nbformat_minor": 4
}
