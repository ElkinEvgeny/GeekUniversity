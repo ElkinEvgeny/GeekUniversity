{
 "cells": [
  {
   "cell_type": "markdown",
   "metadata": {},
   "source": [
    "# Отчет HR-подразделений\n",
    "1. [Письмо - ТЗ от компании](#A)\n",
    "2. [Сведения о данных](#B)\n",
    "3. [Общие сведения по компании](#C)\n",
    "4. [Взаимосвязи между полом, возрастом, отделом и другими переменными с увольнением сотрудников](#D)\n",
    "5. [Анализ данных согласно ТЗ от компании](#E)"
   ]
  },
  {
   "cell_type": "code",
   "execution_count": 1,
   "metadata": {},
   "outputs": [],
   "source": [
    "import pandas as pd\n",
    "import numpy as np\n",
    "import seaborn as sns\n",
    "import matplotlib.pyplot as plt\n",
    "%matplotlib inline"
   ]
  },
  {
   "cell_type": "code",
   "execution_count": 9,
   "metadata": {},
   "outputs": [],
   "source": [
    "data = pd.read_csv('Employee-Attrition.csv')"
   ]
  },
  {
   "cell_type": "markdown",
   "metadata": {},
   "source": [
    "## Письмо - ТЗ от компании: <a id=\"A\"></a>\n",
    "- Насколько сотрудники удовлетворены работой в компании (ответ на вопрос EnvironmentSatisfaction). И какие факторы влияют на удовлетворенность (только ли зарплата? может еще и образование, что-то еще?).\n",
    "- Как позиция(JobLevel)/доход и подразделение влияют на WorkLifeBalance?\n",
    "- Как отношения на работе (RelationshipSatisfaction) зависят от подразделения и EnvironmentSatisfaction?\n",
    "- Как вообще различается удовлетворенность в разных подразделениях? А в грейдах?\n",
    "Но, возможно, у вас есть свое видение как оценить удовлетворенность работой?"
   ]
  },
  {
   "cell_type": "markdown",
   "metadata": {},
   "source": [
    "## Сведения о данных <a id=\"B\"></a>\n",
    "\n",
    "1. Age : Возраст;\n",
    "2. Attrition : Увольнение (да, нет);\n",
    "3. BusinessTravel : Деловые Поездки (путешествует редко или часто);\n",
    "4. DailyRate : Дневная норма;\n",
    "5. Department : Подразделение,\n",
    "6. DistanceFromHome : Расстояние до дома\n",
    "7. Education : Образование (1 'Below College', 2 'College', 3 'Bachelor', 4 'Master', 5 'Doctor');\n",
    "8. EducationField : Сфера образования;\n",
    "9. EmployeeCount : Количество сотрудников;\n",
    "10. EmployeeNumber : Номер сотрудника;\n",
    "11. EnvironmentSatisfaction : Удовлетворенность работой в компании (1 'Low', 2 'Medium', 3 'High', 4 'Very High');\n",
    "12. Gender : Пол;\n",
    "13. HourlyRate : Почасовая ставка;\n",
    "14. JobInvolvement: Участие в работе (1 'Low', 2 'Medium', 3 'High', 4 'Very High'); \n",
    "15. JobLevel : Уровень работы; \n",
    "16. JobRole : Должность;\n",
    "17. JobSatisfaction : Удовлетворенность работой (1 'Low', 2 'Medium', 3 'High', 4 'Very High');\n",
    "18. MaritalStatus : Семейное положение; \n",
    "19. MonthlyIncome : Ежемесячный доход;\n",
    "20. MonthlyRate : Месячная ставка; \n",
    "21. NumCompaniesWorked : Количество мест работы сотрудника;\n",
    "22. Over18 : Старше 18 лет; \n",
    "23. OverTime : Сверхурочные; \n",
    "24. PercentSalaryHike : Процентная ставка;  \n",
    "25. PerformanceRating : Оценка производительности (1 'Low', 2 'Medium', 3 'High', 4 'Very High');\n",
    "26. RelationshipSatisfaction : Удовлетворенность отношением (1 'Low', 2 'Medium', 3 'High', 4 'Very High');\n",
    "27. StandardHours :  Стандартные часы работы;\n",
    "28. StockOptionLevel : Опционы;\n",
    "29. TotalWorkingYears : Общий трудовой стаж;\n",
    "30. TrainingTimesLastYear : Время обучения - последний год; \n",
    "31. WorkLifeBalance : Баланс Между Работой и Личной жизнью (1 'Low', 2 'Medium', 3 'High', 4 'Very High');\n",
    "32. YearsAtCompany : Стаж работы в компании;\n",
    "33. YearsInCurrentRole : Стаж работы в компании в должности; \n",
    "34. YearsSinceLastPromotion : Годы с момента последней акции\n",
    "35. YearsWithCurrManager : Количеcтво лет взаимодействия с HR-менеджер\n",
    "    "
   ]
  },
  {
   "cell_type": "markdown",
   "metadata": {},
   "source": [
    "## 1. Общие сведения по компании <a id=\"C\"></a>"
   ]
  },
  {
   "cell_type": "code",
   "execution_count": 10,
   "metadata": {},
   "outputs": [
    {
     "name": "stdout",
     "output_type": "stream",
     "text": [
      "Количество сотрудников компании: 1470 Средний возраст сотрудников: 37 Средняя зарплата сотрудников: 6503 Количество департаметов: 3\n"
     ]
    }
   ],
   "source": [
    "print('Количество сотрудников компании:', len(data.Age),\n",
    "    'Средний возраст сотрудников:', round(data.Age.mean()), \n",
    "     'Средняя зарплата сотрудников:', round(data.MonthlyIncome.mean()),  \n",
    "    'Количество департаметов:', len(list(data.Department.value_counts())))"
   ]
  },
  {
   "cell_type": "code",
   "execution_count": 11,
   "metadata": {},
   "outputs": [
    {
     "data": {
      "text/plain": [
       "Male      0.6\n",
       "Female    0.4\n",
       "Name: Gender, dtype: float64"
      ]
     },
     "execution_count": 11,
     "metadata": {},
     "output_type": "execute_result"
    }
   ],
   "source": [
    "data.Gender.value_counts(normalize=True) # в компании 60 % мужчин и 40 % женщин"
   ]
  },
  {
   "cell_type": "code",
   "execution_count": 12,
   "metadata": {},
   "outputs": [
    {
     "data": {
      "text/html": [
       "<div>\n",
       "<style scoped>\n",
       "    .dataframe tbody tr th:only-of-type {\n",
       "        vertical-align: middle;\n",
       "    }\n",
       "\n",
       "    .dataframe tbody tr th {\n",
       "        vertical-align: top;\n",
       "    }\n",
       "\n",
       "    .dataframe thead th {\n",
       "        text-align: right;\n",
       "    }\n",
       "</style>\n",
       "<table border=\"1\" class=\"dataframe\">\n",
       "  <thead>\n",
       "    <tr style=\"text-align: right;\">\n",
       "      <th></th>\n",
       "      <th>EmployeeCount</th>\n",
       "    </tr>\n",
       "    <tr>\n",
       "      <th>Department</th>\n",
       "      <th></th>\n",
       "    </tr>\n",
       "  </thead>\n",
       "  <tbody>\n",
       "    <tr>\n",
       "      <th>Human Resources</th>\n",
       "      <td>63</td>\n",
       "    </tr>\n",
       "    <tr>\n",
       "      <th>Research &amp; Development</th>\n",
       "      <td>961</td>\n",
       "    </tr>\n",
       "    <tr>\n",
       "      <th>Sales</th>\n",
       "      <td>446</td>\n",
       "    </tr>\n",
       "  </tbody>\n",
       "</table>\n",
       "</div>"
      ],
      "text/plain": [
       "                        EmployeeCount\n",
       "Department                           \n",
       "Human Resources                    63\n",
       "Research & Development            961\n",
       "Sales                             446"
      ]
     },
     "execution_count": 12,
     "metadata": {},
     "output_type": "execute_result"
    }
   ],
   "source": [
    "data.pivot_table(['EmployeeCount'],['Department'],aggfunc='count').head(10) # количество людей в подразделениях"
   ]
  },
  {
   "cell_type": "code",
   "execution_count": 13,
   "metadata": {},
   "outputs": [],
   "source": [
    "Education = {1:'Below College', 2:'College', 3 : 'Bachelor', 4 :'Master', 5 :'Doctor'}\n",
    "data['Education_new']=data['Education'].map(Education)\n"
   ]
  },
  {
   "cell_type": "code",
   "execution_count": 14,
   "metadata": {},
   "outputs": [
    {
     "data": {
      "text/html": [
       "<div>\n",
       "<style scoped>\n",
       "    .dataframe tbody tr th:only-of-type {\n",
       "        vertical-align: middle;\n",
       "    }\n",
       "\n",
       "    .dataframe tbody tr th {\n",
       "        vertical-align: top;\n",
       "    }\n",
       "\n",
       "    .dataframe thead th {\n",
       "        text-align: right;\n",
       "    }\n",
       "</style>\n",
       "<table border=\"1\" class=\"dataframe\">\n",
       "  <thead>\n",
       "    <tr style=\"text-align: right;\">\n",
       "      <th></th>\n",
       "      <th></th>\n",
       "      <th>MonthlyIncome</th>\n",
       "    </tr>\n",
       "    <tr>\n",
       "      <th>Department</th>\n",
       "      <th>Education_new</th>\n",
       "      <th></th>\n",
       "    </tr>\n",
       "  </thead>\n",
       "  <tbody>\n",
       "    <tr>\n",
       "      <th rowspan=\"5\" valign=\"top\">Human Resources</th>\n",
       "      <th>Bachelor</th>\n",
       "      <td>6760.555556</td>\n",
       "    </tr>\n",
       "    <tr>\n",
       "      <th>Below College</th>\n",
       "      <td>2776.600000</td>\n",
       "    </tr>\n",
       "    <tr>\n",
       "      <th>College</th>\n",
       "      <td>4782.923077</td>\n",
       "    </tr>\n",
       "    <tr>\n",
       "      <th>Doctor</th>\n",
       "      <td>4990.333333</td>\n",
       "    </tr>\n",
       "    <tr>\n",
       "      <th>Master</th>\n",
       "      <td>9711.133333</td>\n",
       "    </tr>\n",
       "    <tr>\n",
       "      <th rowspan=\"5\" valign=\"top\">Research &amp; Development</th>\n",
       "      <th>Bachelor</th>\n",
       "      <td>6220.704485</td>\n",
       "    </tr>\n",
       "    <tr>\n",
       "      <th>Below College</th>\n",
       "      <td>5770.860870</td>\n",
       "    </tr>\n",
       "    <tr>\n",
       "      <th>College</th>\n",
       "      <td>6190.093407</td>\n",
       "    </tr>\n",
       "    <tr>\n",
       "      <th>Doctor</th>\n",
       "      <td>8325.600000</td>\n",
       "    </tr>\n",
       "    <tr>\n",
       "      <th>Master</th>\n",
       "      <td>6425.972549</td>\n",
       "    </tr>\n",
       "    <tr>\n",
       "      <th rowspan=\"5\" valign=\"top\">Sales</th>\n",
       "      <th>Bachelor</th>\n",
       "      <td>7154.777108</td>\n",
       "    </tr>\n",
       "    <tr>\n",
       "      <th>Below College</th>\n",
       "      <td>5627.300000</td>\n",
       "    </tr>\n",
       "    <tr>\n",
       "      <th>College</th>\n",
       "      <td>6518.839080</td>\n",
       "    </tr>\n",
       "    <tr>\n",
       "      <th>Doctor</th>\n",
       "      <td>8839.200000</td>\n",
       "    </tr>\n",
       "    <tr>\n",
       "      <th>Master</th>\n",
       "      <td>7304.734375</td>\n",
       "    </tr>\n",
       "  </tbody>\n",
       "</table>\n",
       "</div>"
      ],
      "text/plain": [
       "                                      MonthlyIncome\n",
       "Department             Education_new               \n",
       "Human Resources        Bachelor         6760.555556\n",
       "                       Below College    2776.600000\n",
       "                       College          4782.923077\n",
       "                       Doctor           4990.333333\n",
       "                       Master           9711.133333\n",
       "Research & Development Bachelor         6220.704485\n",
       "                       Below College    5770.860870\n",
       "                       College          6190.093407\n",
       "                       Doctor           8325.600000\n",
       "                       Master           6425.972549\n",
       "Sales                  Bachelor         7154.777108\n",
       "                       Below College    5627.300000\n",
       "                       College          6518.839080\n",
       "                       Doctor           8839.200000\n",
       "                       Master           7304.734375"
      ]
     },
     "execution_count": 14,
     "metadata": {},
     "output_type": "execute_result"
    }
   ],
   "source": [
    "data.groupby(['Department','Education_new'])[['MonthlyIncome']].mean()\n",
    "# Cредние зарплаты сотрудников в зависимости от образования и отдела"
   ]
  },
  {
   "cell_type": "code",
   "execution_count": 15,
   "metadata": {},
   "outputs": [
    {
     "data": {
      "text/plain": [
       "No     0.838776\n",
       "Yes    0.161224\n",
       "Name: Attrition, dtype: float64"
      ]
     },
     "execution_count": 15,
     "metadata": {},
     "output_type": "execute_result"
    }
   ],
   "source": [
    "data.Attrition.value_counts(1)"
   ]
  },
  {
   "cell_type": "markdown",
   "metadata": {},
   "source": [
    "Выводы (c учетом уволенных сотрудников):\n",
    "- Количество сотрудников компании: 1470 человек ;\n",
    "- Средний возраст сотрудников 37 лет;\n",
    "- Средняя зарплата сотрудников 6503 доллара США;\n",
    "- Соотношение мужчин и женщин в компании составляет: 60% и 40% ;\n",
    "- Количество департаментов: 3 департамента, в департаменте Human Resources 63 человека, в департаменте Research & Development 961 человек, в департаменте Sales 446 человека;\n",
    "- в настоящее время из 1470 человек 16% уволенны."
   ]
  },
  {
   "cell_type": "markdown",
   "metadata": {},
   "source": [
    "## 2.  Взаимосвязи между полом, возрастом, отделом и другими переменными с увольнением сотрудников <a id=\"D\"></a>"
   ]
  },
  {
   "cell_type": "code",
   "execution_count": 16,
   "metadata": {},
   "outputs": [
    {
     "data": {
      "text/html": [
       "<div>\n",
       "<style scoped>\n",
       "    .dataframe tbody tr th:only-of-type {\n",
       "        vertical-align: middle;\n",
       "    }\n",
       "\n",
       "    .dataframe tbody tr th {\n",
       "        vertical-align: top;\n",
       "    }\n",
       "\n",
       "    .dataframe thead th {\n",
       "        text-align: right;\n",
       "    }\n",
       "</style>\n",
       "<table border=\"1\" class=\"dataframe\">\n",
       "  <thead>\n",
       "    <tr style=\"text-align: right;\">\n",
       "      <th></th>\n",
       "      <th></th>\n",
       "      <th>Gender</th>\n",
       "    </tr>\n",
       "    <tr>\n",
       "      <th>Attrition</th>\n",
       "      <th>Gender</th>\n",
       "      <th></th>\n",
       "    </tr>\n",
       "  </thead>\n",
       "  <tbody>\n",
       "    <tr>\n",
       "      <th rowspan=\"2\" valign=\"top\">Yes</th>\n",
       "      <th>Female</th>\n",
       "      <td>87</td>\n",
       "    </tr>\n",
       "    <tr>\n",
       "      <th>Male</th>\n",
       "      <td>150</td>\n",
       "    </tr>\n",
       "  </tbody>\n",
       "</table>\n",
       "</div>"
      ],
      "text/plain": [
       "                  Gender\n",
       "Attrition Gender        \n",
       "Yes       Female      87\n",
       "          Male       150"
      ]
     },
     "execution_count": 16,
     "metadata": {},
     "output_type": "execute_result"
    }
   ],
   "source": [
    "data[data['Attrition']=='Yes'].groupby(['Attrition','Gender'])[['Gender']].count()# взаимосвязь увольнения и пола"
   ]
  },
  {
   "cell_type": "code",
   "execution_count": 17,
   "metadata": {},
   "outputs": [
    {
     "data": {
      "text/plain": [
       "Attrition\n",
       "No     37.561233\n",
       "Yes    33.607595\n",
       "Name: Age, dtype: float64"
      ]
     },
     "execution_count": 17,
     "metadata": {},
     "output_type": "execute_result"
    }
   ],
   "source": [
    "data.groupby(['Attrition'])['Age'].mean() # средний возраст уволенных сотрудников"
   ]
  },
  {
   "cell_type": "code",
   "execution_count": 18,
   "metadata": {},
   "outputs": [
    {
     "data": {
      "text/plain": [
       "Text(0.5, 0.98, 'Взаимосвязь возраста и увольнения сотрудников')"
      ]
     },
     "execution_count": 18,
     "metadata": {},
     "output_type": "execute_result"
    },
    {
     "data": {
      "image/png": "[encoded data removed]",
      "text/plain": [
       "<Figure size 648x432 with 1 Axes>"
      ]
     },
     "metadata": {
      "needs_background": "light"
     },
     "output_type": "display_data"
    }
   ],
   "source": [
    "plt.figure(figsize=(9, 6))\n",
    "plt.plot(np.unique(data[data['Attrition']=='Yes'].Age), list(data[data['Attrition']=='Yes'].groupby('Age')['Attrition'].count()), 'purple')\n",
    "plt.xlabel('Возраст')\n",
    "plt.ylabel('Количество уволенных')\n",
    "plt.suptitle('Взаимосвязь возраста и увольнения сотрудников')"
   ]
  },
  {
   "cell_type": "code",
   "execution_count": 19,
   "metadata": {},
   "outputs": [
    {
     "data": {
      "text/html": [
       "<div>\n",
       "<style scoped>\n",
       "    .dataframe tbody tr th:only-of-type {\n",
       "        vertical-align: middle;\n",
       "    }\n",
       "\n",
       "    .dataframe tbody tr th {\n",
       "        vertical-align: top;\n",
       "    }\n",
       "\n",
       "    .dataframe thead th {\n",
       "        text-align: right;\n",
       "    }\n",
       "</style>\n",
       "<table border=\"1\" class=\"dataframe\">\n",
       "  <thead>\n",
       "    <tr style=\"text-align: right;\">\n",
       "      <th></th>\n",
       "      <th>Attrition</th>\n",
       "    </tr>\n",
       "    <tr>\n",
       "      <th>Department</th>\n",
       "      <th></th>\n",
       "    </tr>\n",
       "  </thead>\n",
       "  <tbody>\n",
       "    <tr>\n",
       "      <th>Human Resources</th>\n",
       "      <td>12</td>\n",
       "    </tr>\n",
       "    <tr>\n",
       "      <th>Research &amp; Development</th>\n",
       "      <td>133</td>\n",
       "    </tr>\n",
       "    <tr>\n",
       "      <th>Sales</th>\n",
       "      <td>92</td>\n",
       "    </tr>\n",
       "  </tbody>\n",
       "</table>\n",
       "</div>"
      ],
      "text/plain": [
       "                        Attrition\n",
       "Department                       \n",
       "Human Resources                12\n",
       "Research & Development        133\n",
       "Sales                          92"
      ]
     },
     "execution_count": 19,
     "metadata": {},
     "output_type": "execute_result"
    }
   ],
   "source": [
    "data[data['Attrition']=='Yes'].groupby(['Department'])[['Attrition']].count() # количество уволенных по департаментам\n"
   ]
  },
  {
   "cell_type": "code",
   "execution_count": 20,
   "metadata": {},
   "outputs": [
    {
     "data": {
      "text/plain": [
       "<AxesSubplot:xlabel='Attrition', ylabel='Age'>"
      ]
     },
     "execution_count": 20,
     "metadata": {},
     "output_type": "execute_result"
    },
    {
     "data": {
      "image/png": "[encoded data removed]",
      "text/plain": [
       "<Figure size 432x288 with 1 Axes>"
      ]
     },
     "metadata": {
      "needs_background": "light"
     },
     "output_type": "display_data"
    }
   ],
   "source": [
    "sns.barplot(x=\"Attrition\", y=\"Age\",  hue=\"Education_new\",data=data) # количество уволенных по образованию"
   ]
  },
  {
   "cell_type": "code",
   "execution_count": 21,
   "metadata": {},
   "outputs": [
    {
     "data": {
      "text/plain": [
       "Text(0.5, 0.98, 'Взаимосвязь количества мест работы сотрудника и его увольнением с компании')"
      ]
     },
     "execution_count": 21,
     "metadata": {},
     "output_type": "execute_result"
    },
    {
     "data": {
      "image/png": "[encoded data removed]",
      "text/plain": [
       "<Figure size 648x432 with 1 Axes>"
      ]
     },
     "metadata": {
      "needs_background": "light"
     },
     "output_type": "display_data"
    }
   ],
   "source": [
    "plt.figure(figsize=(9, 6))\n",
    "plt.plot(np.unique(data.NumCompaniesWorked), list(data[data['Attrition']=='Yes'].groupby('NumCompaniesWorked')['Attrition'].count()), 'green')\n",
    "plt.xlabel('Кол_мест_работы')\n",
    "plt.ylabel('Количество уволенных')\n",
    "plt.suptitle('Взаимосвязь количества мест работы сотрудника и его увольнением с компании')"
   ]
  },
  {
   "cell_type": "code",
   "execution_count": 22,
   "metadata": {},
   "outputs": [
    {
     "data": {
      "text/html": [
       "<div>\n",
       "<style scoped>\n",
       "    .dataframe tbody tr th:only-of-type {\n",
       "        vertical-align: middle;\n",
       "    }\n",
       "\n",
       "    .dataframe tbody tr th {\n",
       "        vertical-align: top;\n",
       "    }\n",
       "\n",
       "    .dataframe thead th {\n",
       "        text-align: right;\n",
       "    }\n",
       "</style>\n",
       "<table border=\"1\" class=\"dataframe\">\n",
       "  <thead>\n",
       "    <tr style=\"text-align: right;\">\n",
       "      <th></th>\n",
       "      <th>Attrition</th>\n",
       "    </tr>\n",
       "    <tr>\n",
       "      <th>YearsAtCompany</th>\n",
       "      <th></th>\n",
       "    </tr>\n",
       "  </thead>\n",
       "  <tbody>\n",
       "    <tr>\n",
       "      <th>1</th>\n",
       "      <td>59</td>\n",
       "    </tr>\n",
       "    <tr>\n",
       "      <th>2</th>\n",
       "      <td>27</td>\n",
       "    </tr>\n",
       "    <tr>\n",
       "      <th>5</th>\n",
       "      <td>21</td>\n",
       "    </tr>\n",
       "    <tr>\n",
       "      <th>3</th>\n",
       "      <td>20</td>\n",
       "    </tr>\n",
       "    <tr>\n",
       "      <th>4</th>\n",
       "      <td>19</td>\n",
       "    </tr>\n",
       "  </tbody>\n",
       "</table>\n",
       "</div>"
      ],
      "text/plain": [
       "                Attrition\n",
       "YearsAtCompany           \n",
       "1                      59\n",
       "2                      27\n",
       "5                      21\n",
       "3                      20\n",
       "4                      19"
      ]
     },
     "execution_count": 22,
     "metadata": {},
     "output_type": "execute_result"
    }
   ],
   "source": [
    "data[data['Attrition']=='Yes'].groupby(['YearsAtCompany'])[['Attrition']].count().sort_values(by='Attrition', ascending = False).head(5)"
   ]
  },
  {
   "cell_type": "markdown",
   "metadata": {},
   "source": [
    "Выводы:\n",
    "- Возраст увольняемых сотрудников обычно 28 или 33 года;\n",
    "- Взаимосвязь между увольнением сотрудника и полом, образованием, отделом отсутствует;\n",
    "- Большего всего увольняются сотрудники ранее работавшие только в одной компании;\n",
    "- Большая вероятность увольнения сотрудника проработавшего 1 год."
   ]
  },
  {
   "cell_type": "markdown",
   "metadata": {},
   "source": [
    "## 3. Анализ данных согласно ТЗ от компании <a id=\"E\"></a>"
   ]
  },
  {
   "cell_type": "markdown",
   "metadata": {},
   "source": [
    "3.1 Насколько сотрудники удовлетворены работой в компании и какие факторы влияют на удовлетворенность"
   ]
  },
  {
   "cell_type": "code",
   "execution_count": 23,
   "metadata": {},
   "outputs": [
    {
     "data": {
      "text/plain": [
       "3    0.308163\n",
       "4    0.303401\n",
       "2    0.195238\n",
       "1    0.193197\n",
       "Name: EnvironmentSatisfaction, dtype: float64"
      ]
     },
     "execution_count": 23,
     "metadata": {},
     "output_type": "execute_result"
    }
   ],
   "source": [
    "data.EnvironmentSatisfaction.value_counts(1)# около 19 % сотрудников полностью не удовлетворены работой (1)"
   ]
  },
  {
   "cell_type": "code",
   "execution_count": 24,
   "metadata": {},
   "outputs": [
    {
     "data": {
      "text/html": [
       "<div>\n",
       "<style scoped>\n",
       "    .dataframe tbody tr th:only-of-type {\n",
       "        vertical-align: middle;\n",
       "    }\n",
       "\n",
       "    .dataframe tbody tr th {\n",
       "        vertical-align: top;\n",
       "    }\n",
       "\n",
       "    .dataframe thead th {\n",
       "        text-align: right;\n",
       "    }\n",
       "</style>\n",
       "<table border=\"1\" class=\"dataframe\">\n",
       "  <thead>\n",
       "    <tr style=\"text-align: right;\">\n",
       "      <th></th>\n",
       "      <th></th>\n",
       "      <th>EnvironmentSatisfaction</th>\n",
       "    </tr>\n",
       "    <tr>\n",
       "      <th>EducationField</th>\n",
       "      <th>EnvironmentSatisfaction</th>\n",
       "      <th></th>\n",
       "    </tr>\n",
       "  </thead>\n",
       "  <tbody>\n",
       "    <tr>\n",
       "      <th>Human Resources</th>\n",
       "      <th>1</th>\n",
       "      <td>5</td>\n",
       "    </tr>\n",
       "    <tr>\n",
       "      <th>Life Sciences</th>\n",
       "      <th>1</th>\n",
       "      <td>130</td>\n",
       "    </tr>\n",
       "    <tr>\n",
       "      <th>Marketing</th>\n",
       "      <th>1</th>\n",
       "      <td>29</td>\n",
       "    </tr>\n",
       "    <tr>\n",
       "      <th>Medical</th>\n",
       "      <th>1</th>\n",
       "      <td>87</td>\n",
       "    </tr>\n",
       "    <tr>\n",
       "      <th>Other</th>\n",
       "      <th>1</th>\n",
       "      <td>10</td>\n",
       "    </tr>\n",
       "    <tr>\n",
       "      <th>Technical Degree</th>\n",
       "      <th>1</th>\n",
       "      <td>23</td>\n",
       "    </tr>\n",
       "  </tbody>\n",
       "</table>\n",
       "</div>"
      ],
      "text/plain": [
       "                                          EnvironmentSatisfaction\n",
       "EducationField   EnvironmentSatisfaction                         \n",
       "Human Resources  1                                              5\n",
       "Life Sciences    1                                            130\n",
       "Marketing        1                                             29\n",
       "Medical          1                                             87\n",
       "Other            1                                             10\n",
       "Technical Degree 1                                             23"
      ]
     },
     "execution_count": 24,
     "metadata": {},
     "output_type": "execute_result"
    }
   ],
   "source": [
    "data[data['EnvironmentSatisfaction']==1].groupby(['EducationField','EnvironmentSatisfaction'])[['EnvironmentSatisfaction']].count()\n",
    "# больше всего не удовлетворены работой сотрудники в сфере образованием \"Life Sciences\" и \"Medical\""
   ]
  },
  {
   "cell_type": "code",
   "execution_count": 25,
   "metadata": {},
   "outputs": [
    {
     "data": {
      "text/plain": [
       "Department              JobRole                  \n",
       "Human Resources         Human Resources               3\n",
       "                        Manager                       1\n",
       "Research & Development  Healthcare Representative    17\n",
       "                        Laboratory Technician        47\n",
       "                        Manager                       9\n",
       "                        Manufacturing Director       20\n",
       "                        Research Director            20\n",
       "                        Research Scientist           52\n",
       "Sales                   Manager                       4\n",
       "                        Sales Executive              38\n",
       "                        Sales Representative          6\n",
       "Name: EducationField, dtype: int64"
      ]
     },
     "execution_count": 25,
     "metadata": {},
     "output_type": "execute_result"
    }
   ],
   "source": [
    "data[(data['EducationField'].isin(['Life Sciences','Medical'])) & (data['EnvironmentSatisfaction']==1)].groupby(['Department','JobRole'])['EducationField'].count()\n",
    "# больше всего не удовлетворены работой сотрудники в сфере образованием \"Life Sciences\" и \"Medical\" в департаменте Research & Development в должности Laboratory Technician, Research Scientist"
   ]
  },
  {
   "cell_type": "code",
   "execution_count": 26,
   "metadata": {},
   "outputs": [
    {
     "data": {
      "text/html": [
       "<div>\n",
       "<style scoped>\n",
       "    .dataframe tbody tr th:only-of-type {\n",
       "        vertical-align: middle;\n",
       "    }\n",
       "\n",
       "    .dataframe tbody tr th {\n",
       "        vertical-align: top;\n",
       "    }\n",
       "\n",
       "    .dataframe thead th {\n",
       "        text-align: right;\n",
       "    }\n",
       "</style>\n",
       "<table border=\"1\" class=\"dataframe\">\n",
       "  <thead>\n",
       "    <tr style=\"text-align: right;\">\n",
       "      <th></th>\n",
       "      <th></th>\n",
       "      <th>MonthlyIncome</th>\n",
       "    </tr>\n",
       "    <tr>\n",
       "      <th>Department</th>\n",
       "      <th>JobRole</th>\n",
       "      <th></th>\n",
       "    </tr>\n",
       "  </thead>\n",
       "  <tbody>\n",
       "    <tr>\n",
       "      <th rowspan=\"2\" valign=\"top\">Research &amp; Development</th>\n",
       "      <th>Laboratory Technician</th>\n",
       "      <td>3559.056604</td>\n",
       "    </tr>\n",
       "    <tr>\n",
       "      <th>Research Scientist</th>\n",
       "      <td>3043.762712</td>\n",
       "    </tr>\n",
       "  </tbody>\n",
       "</table>\n",
       "</div>"
      ],
      "text/plain": [
       "                                              MonthlyIncome\n",
       "Department             JobRole                             \n",
       "Research & Development Laboratory Technician    3559.056604\n",
       "                       Research Scientist       3043.762712"
      ]
     },
     "execution_count": 26,
     "metadata": {},
     "output_type": "execute_result"
    }
   ],
   "source": [
    "data[(data['JobRole'].isin(['Laboratory Technician','Research Scientist'])) & (data['EnvironmentSatisfaction']==1)].groupby(['Department','JobRole'])[['MonthlyIncome']].mean()"
   ]
  },
  {
   "cell_type": "code",
   "execution_count": 27,
   "metadata": {},
   "outputs": [
    {
     "data": {
      "text/plain": [
       "MonthlyIncome    6281.252862\n",
       "dtype: float64"
      ]
     },
     "execution_count": 27,
     "metadata": {},
     "output_type": "execute_result"
    }
   ],
   "source": [
    "data[data['Department']=='Research & Development'][['MonthlyIncome']].mean() # средняя зарплата в департаменте Research & Development"
   ]
  },
  {
   "cell_type": "markdown",
   "metadata": {},
   "source": [
    "Около 19 % сотрудников не удовлетворены работой в компании. Больше всего не удовлетворены работой в компании сотрудники в сфере образованием \"Life Sciences\" и \"Medical\" в департаменте Research & Development в должности Laboratory Technician и Research Scientist их средняя зарплата состовляет 3559.05 и 3043.76 долл. США, при это средняя зарплата в департаменте Research & Development состовляет 6281.25 долл. США."
   ]
  },
  {
   "cell_type": "markdown",
   "metadata": {},
   "source": [
    "3.2 Как отношения на работе (RelationshipSatisfaction) зависят от подразделения и EnvironmentSatisfaction"
   ]
  },
  {
   "cell_type": "code",
   "execution_count": 28,
   "metadata": {},
   "outputs": [
    {
     "data": {
      "text/html": [
       "<div>\n",
       "<style scoped>\n",
       "    .dataframe tbody tr th:only-of-type {\n",
       "        vertical-align: middle;\n",
       "    }\n",
       "\n",
       "    .dataframe tbody tr th {\n",
       "        vertical-align: top;\n",
       "    }\n",
       "\n",
       "    .dataframe thead th {\n",
       "        text-align: right;\n",
       "    }\n",
       "</style>\n",
       "<table border=\"1\" class=\"dataframe\">\n",
       "  <thead>\n",
       "    <tr style=\"text-align: right;\">\n",
       "      <th></th>\n",
       "      <th>RelationshipSatisfaction</th>\n",
       "      <th>EnvironmentSatisfaction</th>\n",
       "    </tr>\n",
       "    <tr>\n",
       "      <th>Department</th>\n",
       "      <th></th>\n",
       "      <th></th>\n",
       "    </tr>\n",
       "  </thead>\n",
       "  <tbody>\n",
       "    <tr>\n",
       "      <th>Human Resources</th>\n",
       "      <td>1</td>\n",
       "      <td>1</td>\n",
       "    </tr>\n",
       "    <tr>\n",
       "      <th>Research &amp; Development</th>\n",
       "      <td>40</td>\n",
       "      <td>40</td>\n",
       "    </tr>\n",
       "    <tr>\n",
       "      <th>Sales</th>\n",
       "      <td>17</td>\n",
       "      <td>17</td>\n",
       "    </tr>\n",
       "  </tbody>\n",
       "</table>\n",
       "</div>"
      ],
      "text/plain": [
       "                        RelationshipSatisfaction  EnvironmentSatisfaction\n",
       "Department                                                               \n",
       "Human Resources                                1                        1\n",
       "Research & Development                        40                       40\n",
       "Sales                                         17                       17"
      ]
     },
     "execution_count": 28,
     "metadata": {},
     "output_type": "execute_result"
    }
   ],
   "source": [
    "data[(data['EnvironmentSatisfaction']==1) & (data['RelationshipSatisfaction']==1)].groupby(['Department'])[['RelationshipSatisfaction','EnvironmentSatisfaction']].count()"
   ]
  },
  {
   "cell_type": "markdown",
   "metadata": {},
   "source": [
    "Установлена прямая взаимосвязь между удовлетворенностью работой в компании и удовлетворенностью отношением в компании. Наиболее плохие оценки по удовлетворенности в департаменте Research & Development      "
   ]
  },
  {
   "cell_type": "markdown",
   "metadata": {},
   "source": [
    "3.3 Как позиция(JobLevel)/доход и подразделение влияют на WorkLifeBalance"
   ]
  },
  {
   "cell_type": "code",
   "execution_count": 29,
   "metadata": {},
   "outputs": [
    {
     "data": {
      "text/plain": [
       "<AxesSubplot:xlabel='WorkLifeBalance', ylabel='JobLevel'>"
      ]
     },
     "execution_count": 29,
     "metadata": {},
     "output_type": "execute_result"
    },
    {
     "data": {
      "image/png": "[encoded data removed]",
      "text/plain": [
       "<Figure size 432x288 with 1 Axes>"
      ]
     },
     "metadata": {
      "needs_background": "light"
     },
     "output_type": "display_data"
    }
   ],
   "source": [
    "sns.barplot(x=\"WorkLifeBalance\", y=\"JobLevel\",  hue=\"Department\",data=data)"
   ]
  },
  {
   "cell_type": "markdown",
   "metadata": {},
   "source": [
    "Установлена не явная связь WorkLifeBalance и JobLevel. В 3-х департаментах при WorkLifeBalance = Better(3) средний уровень JobLevel почти одинаковый (около 2-x). Однако если смотреть на департамент Research & Development при одинаковом среднем показателе JobLevel WorkLifeBalance варьируется от Bad(1) до Best(4) "
   ]
  },
  {
   "cell_type": "code",
   "execution_count": 30,
   "metadata": {},
   "outputs": [
    {
     "data": {
      "text/plain": [
       "Text(0.5, 0.98, 'Взаимосвязь WorkLifeBalance и средней_зарплаты')"
      ]
     },
     "execution_count": 30,
     "metadata": {},
     "output_type": "execute_result"
    },
    {
     "data": {
      "image/png": "[encoded data removed]",
      "text/plain": [
       "<Figure size 648x432 with 1 Axes>"
      ]
     },
     "metadata": {
      "needs_background": "light"
     },
     "output_type": "display_data"
    }
   ],
   "source": [
    "plt.figure(figsize=(9, 6))\n",
    "plt.plot(np.unique(data.WorkLifeBalance), list(data.groupby('WorkLifeBalance')['MonthlyIncome'].mean()), 'green')\n",
    "plt.xlabel('WorkLifeBalance')\n",
    "plt.ylabel('Cредняя_зарплата')\n",
    "plt.suptitle('Взаимосвязь WorkLifeBalance и средней_зарплаты')"
   ]
  },
  {
   "cell_type": "markdown",
   "metadata": {},
   "source": [
    "Чем больше уровень дохода тем выше WorkLifeBalance"
   ]
  },
  {
   "cell_type": "markdown",
   "metadata": {},
   "source": [
    "3.4 Как вообще различается удовлетворенность в разных подразделениях? А в грейдах?"
   ]
  },
  {
   "cell_type": "code",
   "execution_count": 31,
   "metadata": {},
   "outputs": [
    {
     "data": {
      "text/html": [
       "<div>\n",
       "<style scoped>\n",
       "    .dataframe tbody tr th:only-of-type {\n",
       "        vertical-align: middle;\n",
       "    }\n",
       "\n",
       "    .dataframe tbody tr th {\n",
       "        vertical-align: top;\n",
       "    }\n",
       "\n",
       "    .dataframe thead tr th {\n",
       "        text-align: left;\n",
       "    }\n",
       "\n",
       "    .dataframe thead tr:last-of-type th {\n",
       "        text-align: right;\n",
       "    }\n",
       "</style>\n",
       "<table border=\"1\" class=\"dataframe\">\n",
       "  <thead>\n",
       "    <tr>\n",
       "      <th></th>\n",
       "      <th>EnvironmentSatisfaction</th>\n",
       "      <th>JobLevel</th>\n",
       "    </tr>\n",
       "    <tr>\n",
       "      <th></th>\n",
       "      <th>mean</th>\n",
       "      <th>mean</th>\n",
       "    </tr>\n",
       "    <tr>\n",
       "      <th>Department</th>\n",
       "      <th></th>\n",
       "      <th></th>\n",
       "    </tr>\n",
       "  </thead>\n",
       "  <tbody>\n",
       "    <tr>\n",
       "      <th>Human Resources</th>\n",
       "      <td>2.682540</td>\n",
       "      <td>2.031746</td>\n",
       "    </tr>\n",
       "    <tr>\n",
       "      <th>Research &amp; Development</th>\n",
       "      <td>2.744017</td>\n",
       "      <td>1.977107</td>\n",
       "    </tr>\n",
       "    <tr>\n",
       "      <th>Sales</th>\n",
       "      <td>2.679372</td>\n",
       "      <td>2.255605</td>\n",
       "    </tr>\n",
       "  </tbody>\n",
       "</table>\n",
       "</div>"
      ],
      "text/plain": [
       "                       EnvironmentSatisfaction  JobLevel\n",
       "                                          mean      mean\n",
       "Department                                              \n",
       "Human Resources                       2.682540  2.031746\n",
       "Research & Development                2.744017  1.977107\n",
       "Sales                                 2.679372  2.255605"
      ]
     },
     "execution_count": 31,
     "metadata": {},
     "output_type": "execute_result"
    }
   ],
   "source": [
    "columns_to_show = [\"EnvironmentSatisfaction\", \"JobLevel\"]\n",
    "\n",
    "data.groupby([\"Department\"])[columns_to_show].agg([np.mean])"
   ]
  },
  {
   "cell_type": "markdown",
   "metadata": {},
   "source": [
    "### При анализе средних показателей EnvironmentSatisfaction и JobLevel установлено, что наиболее плохой показатель EnvironmentSatisfaction у департамента Sales, а у департамента Research & Development JobLevel"
   ]
  },
  {
   "cell_type": "markdown",
   "metadata": {},
   "source": [
    "Выводы:\n",
    "- Около 19 % сотрудников полностью не удовлетворены работой в компании;\n",
    "- Факторы влияющие на удовлетворенность: сфера образования, должность, департамент, средняя зарплата ;\n",
    "- Явная связь WorkLifeBalance и JobLevel не прослеживается, при этом чем больше уровень дохода тем выше WorkLifeBalance;\n",
    "- При анализе средних показателей EnvironmentSatisfaction и JobLevel установлено, что наиболее плохой показатель EnvironmentSatisfaction у департамента Sales, а у департамента Research & Development показатель JobLevel"
   ]
  }
 ],
 "metadata": {
  "kernelspec": {
   "display_name": "Python 3",
   "language": "python",
   "name": "python3"
  },
  "language_info": {
   "codemirror_mode": {
    "name": "ipython",
    "version": 3
   },
   "file_extension": ".py",
   "mimetype": "text/x-python",
   "name": "python",
   "nbconvert_exporter": "python",
   "pygments_lexer": "ipython3",
   "version": "3.8.5"
  }
 },
 "nbformat": 4,
 "nbformat_minor": 4
}
